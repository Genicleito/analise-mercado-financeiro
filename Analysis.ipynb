{
  "nbformat": 4,
  "nbformat_minor": 0,
  "metadata": {
    "colab": {
      "provenance": []
    },
    "kernelspec": {
      "name": "python3",
      "display_name": "Python 3"
    },
    "language_info": {
      "name": "python"
    }
  },
  "cells": [
    {
      "cell_type": "code",
      "source": [
        "import pandas as pd\n",
        "import numpy as np\n",
        "import scipy\n",
        "import requests\n",
        "import datetime\n",
        "from tqdm import tqdm\n",
        "import re\n",
        "import plotly.express as px\n",
        "import plotly.graph_objects as go"
      ],
      "metadata": {
        "id": "ldUPSlj3FSl5"
      },
      "execution_count": null,
      "outputs": []
    },
    {
      "cell_type": "code",
      "source": [
        "lib_path = f\"technical_analysis.py\"\n",
        "url_lib = f\"https://raw.githubusercontent.com/Genicleito/market_trading_analysis/master/lib/technical_analysis/__init__.py\"\n",
        "with open(lib_path, 'wb+') as f:\n",
        "    f.write(requests.get(url_lib).text.encode('utf-8'))\n",
        "\n",
        "import technical_analysis"
      ],
      "metadata": {
        "id": "XwViEhiHM2eS"
      },
      "execution_count": null,
      "outputs": []
    },
    {
      "cell_type": "markdown",
      "source": [
        "### Leitura e configuração do DataSet"
      ],
      "metadata": {
        "id": "hIctnqNoM3lG"
      }
    },
    {
      "cell_type": "code",
      "source": [
        "now = lambda: datetime.datetime.now()\n",
        "read_path = f\"https://github.com/Genicleito/analise-mercado-financeiro/raw/main/data/raw/hist_market_trading_yfinance.csv.zip\""
      ],
      "metadata": {
        "id": "LEMxyaQOM11h"
      },
      "execution_count": null,
      "outputs": []
    },
    {
      "cell_type": "code",
      "source": [
        "df_raw = pd.read_csv(read_path)\n",
        "df_raw.info()"
      ],
      "metadata": {
        "colab": {
          "base_uri": "https://localhost:8080/"
        },
        "id": "fo2whmbRNLnd",
        "outputId": "c625c9eb-c2fc-42c9-bcfd-7a6fe1dae49e"
      },
      "execution_count": null,
      "outputs": [
        {
          "output_type": "stream",
          "name": "stdout",
          "text": [
            "<class 'pandas.core.frame.DataFrame'>\n",
            "RangeIndex: 421366 entries, 0 to 421365\n",
            "Data columns (total 40 columns):\n",
            " #   Column                  Non-Null Count   Dtype  \n",
            "---  ------                  --------------   -----  \n",
            " 0   date                    421366 non-null  object \n",
            " 1   ticker                  421366 non-null  object \n",
            " 2   open                    421366 non-null  float64\n",
            " 3   high                    421366 non-null  float64\n",
            " 4   low                     421366 non-null  float64\n",
            " 5   close                   421366 non-null  float64\n",
            " 6   adj_close               421366 non-null  float64\n",
            " 7   volume                  421366 non-null  float64\n",
            " 8   close_ema8              420603 non-null  float64\n",
            " 9   close_ema20             419295 non-null  float64\n",
            " 10  volume_ema20            419295 non-null  float64\n",
            " 11  close_ema72             413627 non-null  float64\n",
            " 12  close_ema200            399675 non-null  float64\n",
            " 13  ind_volume              421366 non-null  int64  \n",
            " 14  macd                    419295 non-null  float64\n",
            " 15  macd_signal             418532 non-null  float64\n",
            " 16  buy                     421366 non-null  int64  \n",
            " 17  sell                    421366 non-null  int64  \n",
            " 18  candle_crossing_ema20   421366 non-null  int64  \n",
            " 19  crossing_8ema_x_20ema   421366 non-null  int64  \n",
            " 20  crossing_8ema_x_72ema   421366 non-null  int64  \n",
            " 21  crossing_20ema_x_72ema  421366 non-null  int64  \n",
            " 22  trend_tomorrow          421366 non-null  int64  \n",
            " 23  prop_gain_8             420600 non-null  float64\n",
            " 24  prop_gain_20            419292 non-null  float64\n",
            " 25  prop_gain_72            413624 non-null  float64\n",
            " 26  volume_to_average       393801 non-null  float64\n",
            " 27  macd_to_average         391906 non-null  float64\n",
            " 28  candle_lose             421366 non-null  float64\n",
            " 29  candle_gain             421366 non-null  float64\n",
            " 30  candle_length           421366 non-null  float64\n",
            " 31  candle_body             421366 non-null  float64\n",
            " 32  candle_prop_close       421366 non-null  float64\n",
            " 33  price_prop_close        421366 non-null  float64\n",
            " 34  lower_shadow            356828 non-null  float64\n",
            " 35  upper_shadow            356805 non-null  float64\n",
            " 36  ema8_over_20            419295 non-null  float64\n",
            " 37  ema8_over_72            413627 non-null  float64\n",
            " 38  ema20_over_72           413627 non-null  float64\n",
            " 39  tend_alta_medias        421366 non-null  bool   \n",
            "dtypes: bool(1), float64(29), int64(8), object(2)\n",
            "memory usage: 125.8+ MB\n"
          ]
        }
      ]
    },
    {
      "cell_type": "code",
      "source": [
        "print(f\"Quantidade de ativos: {len(df_raw['ticker'].unique())} | Quantidade de linhas: {df_raw.shape[0]} | Quantidade de colunas: {df_raw.shape[1]}\")"
      ],
      "metadata": {
        "colab": {
          "base_uri": "https://localhost:8080/"
        },
        "id": "k0n2HDUJNNDx",
        "outputId": "fa58c0cc-c3cf-4896-ee71-9f763fd19405"
      },
      "execution_count": null,
      "outputs": [
        {
          "output_type": "stream",
          "name": "stdout",
          "text": [
            "Quantidade de ativos: 109 | Quantidade de linhas: 421366 | Quantidade de colunas: 40\n"
          ]
        }
      ]
    },
    {
      "cell_type": "code",
      "source": [
        "df_raw.info()"
      ],
      "metadata": {
        "colab": {
          "base_uri": "https://localhost:8080/"
        },
        "id": "MNRW8XWbTygL",
        "outputId": "defc6b57-1805-453e-ea5f-99dab7836d43"
      },
      "execution_count": null,
      "outputs": [
        {
          "output_type": "stream",
          "name": "stdout",
          "text": [
            "<class 'pandas.core.frame.DataFrame'>\n",
            "RangeIndex: 421366 entries, 0 to 421365\n",
            "Data columns (total 40 columns):\n",
            " #   Column                  Non-Null Count   Dtype  \n",
            "---  ------                  --------------   -----  \n",
            " 0   date                    421366 non-null  object \n",
            " 1   ticker                  421366 non-null  object \n",
            " 2   open                    421366 non-null  float64\n",
            " 3   high                    421366 non-null  float64\n",
            " 4   low                     421366 non-null  float64\n",
            " 5   close                   421366 non-null  float64\n",
            " 6   adj_close               421366 non-null  float64\n",
            " 7   volume                  421366 non-null  float64\n",
            " 8   close_ema8              420603 non-null  float64\n",
            " 9   close_ema20             419295 non-null  float64\n",
            " 10  volume_ema20            419295 non-null  float64\n",
            " 11  close_ema72             413627 non-null  float64\n",
            " 12  close_ema200            399675 non-null  float64\n",
            " 13  ind_volume              421366 non-null  int64  \n",
            " 14  macd                    419295 non-null  float64\n",
            " 15  macd_signal             418532 non-null  float64\n",
            " 16  buy                     421366 non-null  int64  \n",
            " 17  sell                    421366 non-null  int64  \n",
            " 18  candle_crossing_ema20   421366 non-null  int64  \n",
            " 19  crossing_8ema_x_20ema   421366 non-null  int64  \n",
            " 20  crossing_8ema_x_72ema   421366 non-null  int64  \n",
            " 21  crossing_20ema_x_72ema  421366 non-null  int64  \n",
            " 22  trend_tomorrow          421366 non-null  int64  \n",
            " 23  prop_gain_8             420600 non-null  float64\n",
            " 24  prop_gain_20            419292 non-null  float64\n",
            " 25  prop_gain_72            413624 non-null  float64\n",
            " 26  volume_to_average       393801 non-null  float64\n",
            " 27  macd_to_average         391906 non-null  float64\n",
            " 28  candle_lose             421366 non-null  float64\n",
            " 29  candle_gain             421366 non-null  float64\n",
            " 30  candle_length           421366 non-null  float64\n",
            " 31  candle_body             421366 non-null  float64\n",
            " 32  candle_prop_close       421366 non-null  float64\n",
            " 33  price_prop_close        421366 non-null  float64\n",
            " 34  lower_shadow            356828 non-null  float64\n",
            " 35  upper_shadow            356805 non-null  float64\n",
            " 36  ema8_over_20            419295 non-null  float64\n",
            " 37  ema8_over_72            413627 non-null  float64\n",
            " 38  ema20_over_72           413627 non-null  float64\n",
            " 39  tend_alta_medias        421366 non-null  bool   \n",
            "dtypes: bool(1), float64(29), int64(8), object(2)\n",
            "memory usage: 125.8+ MB\n"
          ]
        }
      ]
    },
    {
      "cell_type": "markdown",
      "source": [
        "### Teste de Tendência `Cox-Stuart`"
      ],
      "metadata": {
        "id": "iZstIAF1owje"
      }
    },
    {
      "cell_type": "code",
      "source": [
        "# Definição de alguns valores\n",
        "ticker = 'ABEV3'\n",
        "periods = 200\n",
        "p = 0.05\n",
        "# if not periods: periods = len(X)\n",
        "\n",
        "df = pd.read_csv(read_path).query(f\"ticker == '{ticker}'\").sort_values('date').copy()\n",
        "\n",
        "# # Unidimensional\n",
        "# X = df['close'] # .to_numpy()\n",
        "# # Considera todos os dados caso nenhum período tenha sido selecionado\n",
        "# if not periods: periods = len(X)\n",
        "# X = X[-periods:]"
      ],
      "metadata": {
        "id": "F41qnceQhT60"
      },
      "execution_count": null,
      "outputs": []
    },
    {
      "cell_type": "code",
      "source": [
        "# Filtra por ativos da Petrobrás\n",
        "df = df_raw.query(f\"ticker == '{ticker}'\").sort_values('date')\n",
        "\n",
        "# Criar médias móveis curtas e longas\n",
        "df = df.assign(**{\n",
        "    'Média Móvel (8p)': df['close'].rolling(window=8).mean().round(4),\n",
        "    'Média Móvel (20p)': df['close'].rolling(window=20).mean().round(4),\n",
        "    'Média Móvel (72p)': df['close'].rolling(window=72).mean().round(4),\n",
        "    'Média Móvel (200p)': df['close'].rolling(window=200).mean().round(4),\n",
        "}).iloc[-periods:].reset_index(drop=True)\n",
        "\n",
        "# Cria o vetor X com os preços de fechamento\n",
        "X = df['close'] # .to_numpy()"
      ],
      "metadata": {
        "id": "jGjyQrGyZ4IK"
      },
      "execution_count": null,
      "outputs": []
    },
    {
      "cell_type": "code",
      "source": [
        "#trend_type = \"d\" --> \"decreasing trend\" : \"l\"\n",
        "#trend_type = \"i\" --> \"increasing trend\" : \"r\"\n",
        "\n",
        "def simpleCS (x, trend_type = \"l\", p = 0.05):\n",
        "    n0 = len(x) % 2\n",
        "    if n0 == 1:\n",
        "        remover = len(x) // 2\n",
        "        x = np.delete(x, int((len(x))/2))\n",
        "\n",
        "    half = len(x) // 2\n",
        "\n",
        "    x1 = x[np.arange(0, half, dtype=int)]\n",
        "    x2 = x[np.arange(half, len(x), dtype=int)]\n",
        "\n",
        "    n = np.sum((x2 - x1) != 0)\n",
        "    t = np.sum(x1 < x2)\n",
        "\n",
        "    if trend_type == \"d\":\n",
        "        return scipy.stats.binom.cdf(t, n, p) # p-value\n",
        "    return 1 - scipy.stats.binom.cdf(t - 1, n, p) # p-value"
      ],
      "metadata": {
        "id": "LcExTcGchSGj"
      },
      "execution_count": null,
      "outputs": []
    },
    {
      "cell_type": "code",
      "source": [
        "############ Teste de Tendência ############\n",
        "p_value = simpleCS(X.to_numpy(), trend_type='d', p=p)\n",
        "print(f'Não há tendencia de baixa! \\t [P-Value ({p_value}) >= p ({p}): Rejeita H0]' if p_value >= p else f'Há tendencia de baixa! \\t\\t [P-Value ({p_value}) < p ({p}): Aceita H0]')\n",
        "\n",
        "p_value = simpleCS(X.to_numpy(), trend_type='i', p=p)\n",
        "print(f'Não há tendencia de alta! \\t [P-Value ({p_value}) >= p ({p}): Rejeita H0]' if p_value >= p else f'Há tendencia de alta! \\t\\t [P-Value ({p_value}) < p ({p}): Aceita H0]')"
      ],
      "metadata": {
        "colab": {
          "base_uri": "https://localhost:8080/"
        },
        "id": "t7ruzjgTZwdc",
        "outputId": "cffab727-2053-478a-e6b0-82aefc71f214"
      },
      "execution_count": null,
      "outputs": [
        {
          "output_type": "stream",
          "name": "stdout",
          "text": [
            "Há tendencia de baixa! \t\t [P-Value (0.037081209327355036) < p (0.05): Aceita H0]\n",
            "Não há tendencia de alta! \t [P-Value (0.994079470779666) >= p (0.05): Rejeita H0]\n"
          ]
        }
      ]
    },
    {
      "cell_type": "code",
      "source": [],
      "metadata": {
        "id": "cZUwtMxwlzQd"
      },
      "execution_count": null,
      "outputs": []
    },
    {
      "cell_type": "markdown",
      "source": [
        "### Análise da série"
      ],
      "metadata": {
        "id": "mVPS2VZ_Tzek"
      }
    },
    {
      "cell_type": "code",
      "source": [
        "print(f\"Valores nulos no preço de fechamento: {len(df['close'][df['close'].isna()])}\")"
      ],
      "metadata": {
        "colab": {
          "base_uri": "https://localhost:8080/"
        },
        "id": "6emBokV7m61i",
        "outputId": "558e9591-fea9-497a-ac66-070819e9aea8"
      },
      "execution_count": null,
      "outputs": [
        {
          "output_type": "stream",
          "name": "stdout",
          "text": [
            "Valores nulos no preço de fechamento: 0\n"
          ]
        }
      ]
    },
    {
      "cell_type": "code",
      "source": [
        "print(f\"Dados do último pregão:\")\n",
        "df.tail(1).reset_index(drop=True).T.rename(columns={0: 'Infos'})"
      ],
      "metadata": {
        "colab": {
          "base_uri": "https://localhost:8080/",
          "height": 1000
        },
        "id": "sZuVZ8lFnQLm",
        "outputId": "19ea2edf-f9fb-4f8a-994f-7f4a61755e44"
      },
      "execution_count": null,
      "outputs": [
        {
          "output_type": "stream",
          "name": "stdout",
          "text": [
            "Dados do último pregão:\n"
          ]
        },
        {
          "output_type": "execute_result",
          "data": {
            "text/plain": [
              "                             Infos\n",
              "date                    2024-02-26\n",
              "ticker                       ABEV3\n",
              "open                         12.83\n",
              "high                          13.1\n",
              "low                          12.83\n",
              "close                        13.04\n",
              "adj_close                    13.04\n",
              "volume                  12942000.0\n",
              "close_ema8                   12.88\n",
              "close_ema20                   13.0\n",
              "volume_ema20            20025540.0\n",
              "close_ema72                  13.54\n",
              "close_ema200                 13.95\n",
              "ind_volume                      -1\n",
              "macd                         -0.12\n",
              "macd_signal                  -0.15\n",
              "buy                              1\n",
              "sell                             0\n",
              "candle_crossing_ema20            1\n",
              "crossing_8ema_x_20ema            0\n",
              "crossing_8ema_x_72ema            0\n",
              "crossing_20ema_x_72ema           0\n",
              "trend_tomorrow                   1\n",
              "prop_gain_8                    NaN\n",
              "prop_gain_20                   NaN\n",
              "prop_gain_72                   NaN\n",
              "volume_to_average         0.646275\n",
              "macd_to_average                0.8\n",
              "candle_lose                   0.06\n",
              "candle_gain                   0.21\n",
              "candle_length                 0.27\n",
              "candle_body                   0.21\n",
              "candle_prop_close         0.979294\n",
              "price_prop_close          0.983896\n",
              "lower_shadow                   0.0\n",
              "upper_shadow              0.222222\n",
              "ema8_over_20                 -0.12\n",
              "ema8_over_72                 -0.66\n",
              "ema20_over_72                -0.54\n",
              "tend_alta_medias             False\n",
              "Média Móvel (8p)           12.8825\n",
              "Média Móvel (20p)          12.9955\n",
              "Média Móvel (72p)          13.5365\n",
              "Média Móvel (200p)         13.9453"
            ],
            "text/html": [
              "\n",
              "  <div id=\"df-33baad92-fb83-4077-85dd-55f4b6a547ea\" class=\"colab-df-container\">\n",
              "    <div>\n",
              "<style scoped>\n",
              "    .dataframe tbody tr th:only-of-type {\n",
              "        vertical-align: middle;\n",
              "    }\n",
              "\n",
              "    .dataframe tbody tr th {\n",
              "        vertical-align: top;\n",
              "    }\n",
              "\n",
              "    .dataframe thead th {\n",
              "        text-align: right;\n",
              "    }\n",
              "</style>\n",
              "<table border=\"1\" class=\"dataframe\">\n",
              "  <thead>\n",
              "    <tr style=\"text-align: right;\">\n",
              "      <th></th>\n",
              "      <th>Infos</th>\n",
              "    </tr>\n",
              "  </thead>\n",
              "  <tbody>\n",
              "    <tr>\n",
              "      <th>date</th>\n",
              "      <td>2024-02-26</td>\n",
              "    </tr>\n",
              "    <tr>\n",
              "      <th>ticker</th>\n",
              "      <td>ABEV3</td>\n",
              "    </tr>\n",
              "    <tr>\n",
              "      <th>open</th>\n",
              "      <td>12.83</td>\n",
              "    </tr>\n",
              "    <tr>\n",
              "      <th>high</th>\n",
              "      <td>13.1</td>\n",
              "    </tr>\n",
              "    <tr>\n",
              "      <th>low</th>\n",
              "      <td>12.83</td>\n",
              "    </tr>\n",
              "    <tr>\n",
              "      <th>close</th>\n",
              "      <td>13.04</td>\n",
              "    </tr>\n",
              "    <tr>\n",
              "      <th>adj_close</th>\n",
              "      <td>13.04</td>\n",
              "    </tr>\n",
              "    <tr>\n",
              "      <th>volume</th>\n",
              "      <td>12942000.0</td>\n",
              "    </tr>\n",
              "    <tr>\n",
              "      <th>close_ema8</th>\n",
              "      <td>12.88</td>\n",
              "    </tr>\n",
              "    <tr>\n",
              "      <th>close_ema20</th>\n",
              "      <td>13.0</td>\n",
              "    </tr>\n",
              "    <tr>\n",
              "      <th>volume_ema20</th>\n",
              "      <td>20025540.0</td>\n",
              "    </tr>\n",
              "    <tr>\n",
              "      <th>close_ema72</th>\n",
              "      <td>13.54</td>\n",
              "    </tr>\n",
              "    <tr>\n",
              "      <th>close_ema200</th>\n",
              "      <td>13.95</td>\n",
              "    </tr>\n",
              "    <tr>\n",
              "      <th>ind_volume</th>\n",
              "      <td>-1</td>\n",
              "    </tr>\n",
              "    <tr>\n",
              "      <th>macd</th>\n",
              "      <td>-0.12</td>\n",
              "    </tr>\n",
              "    <tr>\n",
              "      <th>macd_signal</th>\n",
              "      <td>-0.15</td>\n",
              "    </tr>\n",
              "    <tr>\n",
              "      <th>buy</th>\n",
              "      <td>1</td>\n",
              "    </tr>\n",
              "    <tr>\n",
              "      <th>sell</th>\n",
              "      <td>0</td>\n",
              "    </tr>\n",
              "    <tr>\n",
              "      <th>candle_crossing_ema20</th>\n",
              "      <td>1</td>\n",
              "    </tr>\n",
              "    <tr>\n",
              "      <th>crossing_8ema_x_20ema</th>\n",
              "      <td>0</td>\n",
              "    </tr>\n",
              "    <tr>\n",
              "      <th>crossing_8ema_x_72ema</th>\n",
              "      <td>0</td>\n",
              "    </tr>\n",
              "    <tr>\n",
              "      <th>crossing_20ema_x_72ema</th>\n",
              "      <td>0</td>\n",
              "    </tr>\n",
              "    <tr>\n",
              "      <th>trend_tomorrow</th>\n",
              "      <td>1</td>\n",
              "    </tr>\n",
              "    <tr>\n",
              "      <th>prop_gain_8</th>\n",
              "      <td>NaN</td>\n",
              "    </tr>\n",
              "    <tr>\n",
              "      <th>prop_gain_20</th>\n",
              "      <td>NaN</td>\n",
              "    </tr>\n",
              "    <tr>\n",
              "      <th>prop_gain_72</th>\n",
              "      <td>NaN</td>\n",
              "    </tr>\n",
              "    <tr>\n",
              "      <th>volume_to_average</th>\n",
              "      <td>0.646275</td>\n",
              "    </tr>\n",
              "    <tr>\n",
              "      <th>macd_to_average</th>\n",
              "      <td>0.8</td>\n",
              "    </tr>\n",
              "    <tr>\n",
              "      <th>candle_lose</th>\n",
              "      <td>0.06</td>\n",
              "    </tr>\n",
              "    <tr>\n",
              "      <th>candle_gain</th>\n",
              "      <td>0.21</td>\n",
              "    </tr>\n",
              "    <tr>\n",
              "      <th>candle_length</th>\n",
              "      <td>0.27</td>\n",
              "    </tr>\n",
              "    <tr>\n",
              "      <th>candle_body</th>\n",
              "      <td>0.21</td>\n",
              "    </tr>\n",
              "    <tr>\n",
              "      <th>candle_prop_close</th>\n",
              "      <td>0.979294</td>\n",
              "    </tr>\n",
              "    <tr>\n",
              "      <th>price_prop_close</th>\n",
              "      <td>0.983896</td>\n",
              "    </tr>\n",
              "    <tr>\n",
              "      <th>lower_shadow</th>\n",
              "      <td>0.0</td>\n",
              "    </tr>\n",
              "    <tr>\n",
              "      <th>upper_shadow</th>\n",
              "      <td>0.222222</td>\n",
              "    </tr>\n",
              "    <tr>\n",
              "      <th>ema8_over_20</th>\n",
              "      <td>-0.12</td>\n",
              "    </tr>\n",
              "    <tr>\n",
              "      <th>ema8_over_72</th>\n",
              "      <td>-0.66</td>\n",
              "    </tr>\n",
              "    <tr>\n",
              "      <th>ema20_over_72</th>\n",
              "      <td>-0.54</td>\n",
              "    </tr>\n",
              "    <tr>\n",
              "      <th>tend_alta_medias</th>\n",
              "      <td>False</td>\n",
              "    </tr>\n",
              "    <tr>\n",
              "      <th>Média Móvel (8p)</th>\n",
              "      <td>12.8825</td>\n",
              "    </tr>\n",
              "    <tr>\n",
              "      <th>Média Móvel (20p)</th>\n",
              "      <td>12.9955</td>\n",
              "    </tr>\n",
              "    <tr>\n",
              "      <th>Média Móvel (72p)</th>\n",
              "      <td>13.5365</td>\n",
              "    </tr>\n",
              "    <tr>\n",
              "      <th>Média Móvel (200p)</th>\n",
              "      <td>13.9453</td>\n",
              "    </tr>\n",
              "  </tbody>\n",
              "</table>\n",
              "</div>\n",
              "    <div class=\"colab-df-buttons\">\n",
              "\n",
              "  <div class=\"colab-df-container\">\n",
              "    <button class=\"colab-df-convert\" onclick=\"convertToInteractive('df-33baad92-fb83-4077-85dd-55f4b6a547ea')\"\n",
              "            title=\"Convert this dataframe to an interactive table.\"\n",
              "            style=\"display:none;\">\n",
              "\n",
              "  <svg xmlns=\"http://www.w3.org/2000/svg\" height=\"24px\" viewBox=\"0 -960 960 960\">\n",
              "    <path d=\"M120-120v-720h720v720H120Zm60-500h600v-160H180v160Zm220 220h160v-160H400v160Zm0 220h160v-160H400v160ZM180-400h160v-160H180v160Zm440 0h160v-160H620v160ZM180-180h160v-160H180v160Zm440 0h160v-160H620v160Z\"/>\n",
              "  </svg>\n",
              "    </button>\n",
              "\n",
              "  <style>\n",
              "    .colab-df-container {\n",
              "      display:flex;\n",
              "      gap: 12px;\n",
              "    }\n",
              "\n",
              "    .colab-df-convert {\n",
              "      background-color: #E8F0FE;\n",
              "      border: none;\n",
              "      border-radius: 50%;\n",
              "      cursor: pointer;\n",
              "      display: none;\n",
              "      fill: #1967D2;\n",
              "      height: 32px;\n",
              "      padding: 0 0 0 0;\n",
              "      width: 32px;\n",
              "    }\n",
              "\n",
              "    .colab-df-convert:hover {\n",
              "      background-color: #E2EBFA;\n",
              "      box-shadow: 0px 1px 2px rgba(60, 64, 67, 0.3), 0px 1px 3px 1px rgba(60, 64, 67, 0.15);\n",
              "      fill: #174EA6;\n",
              "    }\n",
              "\n",
              "    .colab-df-buttons div {\n",
              "      margin-bottom: 4px;\n",
              "    }\n",
              "\n",
              "    [theme=dark] .colab-df-convert {\n",
              "      background-color: #3B4455;\n",
              "      fill: #D2E3FC;\n",
              "    }\n",
              "\n",
              "    [theme=dark] .colab-df-convert:hover {\n",
              "      background-color: #434B5C;\n",
              "      box-shadow: 0px 1px 3px 1px rgba(0, 0, 0, 0.15);\n",
              "      filter: drop-shadow(0px 1px 2px rgba(0, 0, 0, 0.3));\n",
              "      fill: #FFFFFF;\n",
              "    }\n",
              "  </style>\n",
              "\n",
              "    <script>\n",
              "      const buttonEl =\n",
              "        document.querySelector('#df-33baad92-fb83-4077-85dd-55f4b6a547ea button.colab-df-convert');\n",
              "      buttonEl.style.display =\n",
              "        google.colab.kernel.accessAllowed ? 'block' : 'none';\n",
              "\n",
              "      async function convertToInteractive(key) {\n",
              "        const element = document.querySelector('#df-33baad92-fb83-4077-85dd-55f4b6a547ea');\n",
              "        const dataTable =\n",
              "          await google.colab.kernel.invokeFunction('convertToInteractive',\n",
              "                                                    [key], {});\n",
              "        if (!dataTable) return;\n",
              "\n",
              "        const docLinkHtml = 'Like what you see? Visit the ' +\n",
              "          '<a target=\"_blank\" href=https://colab.research.google.com/notebooks/data_table.ipynb>data table notebook</a>'\n",
              "          + ' to learn more about interactive tables.';\n",
              "        element.innerHTML = '';\n",
              "        dataTable['output_type'] = 'display_data';\n",
              "        await google.colab.output.renderOutput(dataTable, element);\n",
              "        const docLink = document.createElement('div');\n",
              "        docLink.innerHTML = docLinkHtml;\n",
              "        element.appendChild(docLink);\n",
              "      }\n",
              "    </script>\n",
              "  </div>\n",
              "\n",
              "\n",
              "<div id=\"df-b3025d29-b455-441c-b908-ea36672a11c7\">\n",
              "  <button class=\"colab-df-quickchart\" onclick=\"quickchart('df-b3025d29-b455-441c-b908-ea36672a11c7')\"\n",
              "            title=\"Suggest charts\"\n",
              "            style=\"display:none;\">\n",
              "\n",
              "<svg xmlns=\"http://www.w3.org/2000/svg\" height=\"24px\"viewBox=\"0 0 24 24\"\n",
              "     width=\"24px\">\n",
              "    <g>\n",
              "        <path d=\"M19 3H5c-1.1 0-2 .9-2 2v14c0 1.1.9 2 2 2h14c1.1 0 2-.9 2-2V5c0-1.1-.9-2-2-2zM9 17H7v-7h2v7zm4 0h-2V7h2v10zm4 0h-2v-4h2v4z\"/>\n",
              "    </g>\n",
              "</svg>\n",
              "  </button>\n",
              "\n",
              "<style>\n",
              "  .colab-df-quickchart {\n",
              "      --bg-color: #E8F0FE;\n",
              "      --fill-color: #1967D2;\n",
              "      --hover-bg-color: #E2EBFA;\n",
              "      --hover-fill-color: #174EA6;\n",
              "      --disabled-fill-color: #AAA;\n",
              "      --disabled-bg-color: #DDD;\n",
              "  }\n",
              "\n",
              "  [theme=dark] .colab-df-quickchart {\n",
              "      --bg-color: #3B4455;\n",
              "      --fill-color: #D2E3FC;\n",
              "      --hover-bg-color: #434B5C;\n",
              "      --hover-fill-color: #FFFFFF;\n",
              "      --disabled-bg-color: #3B4455;\n",
              "      --disabled-fill-color: #666;\n",
              "  }\n",
              "\n",
              "  .colab-df-quickchart {\n",
              "    background-color: var(--bg-color);\n",
              "    border: none;\n",
              "    border-radius: 50%;\n",
              "    cursor: pointer;\n",
              "    display: none;\n",
              "    fill: var(--fill-color);\n",
              "    height: 32px;\n",
              "    padding: 0;\n",
              "    width: 32px;\n",
              "  }\n",
              "\n",
              "  .colab-df-quickchart:hover {\n",
              "    background-color: var(--hover-bg-color);\n",
              "    box-shadow: 0 1px 2px rgba(60, 64, 67, 0.3), 0 1px 3px 1px rgba(60, 64, 67, 0.15);\n",
              "    fill: var(--button-hover-fill-color);\n",
              "  }\n",
              "\n",
              "  .colab-df-quickchart-complete:disabled,\n",
              "  .colab-df-quickchart-complete:disabled:hover {\n",
              "    background-color: var(--disabled-bg-color);\n",
              "    fill: var(--disabled-fill-color);\n",
              "    box-shadow: none;\n",
              "  }\n",
              "\n",
              "  .colab-df-spinner {\n",
              "    border: 2px solid var(--fill-color);\n",
              "    border-color: transparent;\n",
              "    border-bottom-color: var(--fill-color);\n",
              "    animation:\n",
              "      spin 1s steps(1) infinite;\n",
              "  }\n",
              "\n",
              "  @keyframes spin {\n",
              "    0% {\n",
              "      border-color: transparent;\n",
              "      border-bottom-color: var(--fill-color);\n",
              "      border-left-color: var(--fill-color);\n",
              "    }\n",
              "    20% {\n",
              "      border-color: transparent;\n",
              "      border-left-color: var(--fill-color);\n",
              "      border-top-color: var(--fill-color);\n",
              "    }\n",
              "    30% {\n",
              "      border-color: transparent;\n",
              "      border-left-color: var(--fill-color);\n",
              "      border-top-color: var(--fill-color);\n",
              "      border-right-color: var(--fill-color);\n",
              "    }\n",
              "    40% {\n",
              "      border-color: transparent;\n",
              "      border-right-color: var(--fill-color);\n",
              "      border-top-color: var(--fill-color);\n",
              "    }\n",
              "    60% {\n",
              "      border-color: transparent;\n",
              "      border-right-color: var(--fill-color);\n",
              "    }\n",
              "    80% {\n",
              "      border-color: transparent;\n",
              "      border-right-color: var(--fill-color);\n",
              "      border-bottom-color: var(--fill-color);\n",
              "    }\n",
              "    90% {\n",
              "      border-color: transparent;\n",
              "      border-bottom-color: var(--fill-color);\n",
              "    }\n",
              "  }\n",
              "</style>\n",
              "\n",
              "  <script>\n",
              "    async function quickchart(key) {\n",
              "      const quickchartButtonEl =\n",
              "        document.querySelector('#' + key + ' button');\n",
              "      quickchartButtonEl.disabled = true;  // To prevent multiple clicks.\n",
              "      quickchartButtonEl.classList.add('colab-df-spinner');\n",
              "      try {\n",
              "        const charts = await google.colab.kernel.invokeFunction(\n",
              "            'suggestCharts', [key], {});\n",
              "      } catch (error) {\n",
              "        console.error('Error during call to suggestCharts:', error);\n",
              "      }\n",
              "      quickchartButtonEl.classList.remove('colab-df-spinner');\n",
              "      quickchartButtonEl.classList.add('colab-df-quickchart-complete');\n",
              "    }\n",
              "    (() => {\n",
              "      let quickchartButtonEl =\n",
              "        document.querySelector('#df-b3025d29-b455-441c-b908-ea36672a11c7 button');\n",
              "      quickchartButtonEl.style.display =\n",
              "        google.colab.kernel.accessAllowed ? 'block' : 'none';\n",
              "    })();\n",
              "  </script>\n",
              "</div>\n",
              "\n",
              "    </div>\n",
              "  </div>\n"
            ],
            "application/vnd.google.colaboratory.intrinsic+json": {
              "type": "dataframe",
              "summary": "{\n  \"name\": \"df\",\n  \"rows\": 44,\n  \"fields\": [\n    {\n      \"column\": \"Infos\",\n      \"properties\": {\n        \"dtype\": \"string\",\n        \"num_unique_values\": 31,\n        \"samples\": [\n          12.8825,\n          0,\n          0.2222222222222244\n        ],\n        \"semantic_type\": \"\",\n        \"description\": \"\"\n      }\n    }\n  ]\n}"
            }
          },
          "metadata": {},
          "execution_count": 11
        }
      ]
    },
    {
      "cell_type": "code",
      "source": [
        "fig = go.Figure()\n",
        "\n",
        "fig.add_trace(\n",
        "    go.Scatter(\n",
        "        y=X,\n",
        "        mode='lines',\n",
        "        name='Preço de Fechamento',\n",
        "        line = dict(width=2.5)\n",
        "    )\n",
        ")\n",
        "\n",
        "fig.add_trace(\n",
        "    go.Scatter(\n",
        "        y=df['Média Móvel (8p)'],\n",
        "        mode='lines',\n",
        "        name='Média Móvel (8p)',\n",
        "        line = dict(color='#cc66cc', width=1.25) # , dash='dash')\n",
        "    )\n",
        ")\n",
        "\n",
        "fig.add_trace(\n",
        "    go.Scatter(\n",
        "        y=df['Média Móvel (20p)'],\n",
        "        mode='lines',\n",
        "        name='Média Móvel (20p)',\n",
        "        line = dict(color='#000000', width=1.25) # , dash='dash')\n",
        "    )\n",
        ")\n",
        "\n",
        "fig.add_trace(\n",
        "    go.Scatter(\n",
        "        y=df['Média Móvel (72p)'],\n",
        "        mode='lines',\n",
        "        name='Média Móvel (72p)',\n",
        "        line = dict(color='#99994d', width=1.25) # , dash='dash')\n",
        "    )\n",
        ")\n",
        "\n",
        "# fig.add_trace(\n",
        "#     go.Scatter(\n",
        "#         y=df['Média Móvel (200p)'],\n",
        "#         mode='lines',\n",
        "#         name='Média Móvel (200p)',\n",
        "#         line = dict(color='#5c5c8a', width=2, dash='dash')\n",
        "#     )\n",
        "# )\n",
        "\n",
        "fig.update_layout(\n",
        "    title=f\"Últimos {periods} pregões na Bolsa de Valores da ação {ticker} [Último registro: {df['date'].max()}]\",\n",
        "    xaxis_title=\"Períodos (dias)\",\n",
        "    yaxis_title=\"Preço de fechamento (R$)\",\n",
        "    legend_title=\"Série e médias móveis\",\n",
        "    # font=dict(\n",
        "    #     family=\"Courier New, monospace\",\n",
        "    #     size=18,\n",
        "    #     color=\"RebeccaPurple\"\n",
        "    # )\n",
        ")\n",
        "\n",
        "annotations = []\n",
        "annotations.append(\n",
        "    dict(\n",
        "        xref='paper', yref='paper', x=0.9, y=-0.1,\n",
        "        xanchor='center', yanchor='top', text=f\"Último registro: {df['date'].max()}\",\n",
        "        # font=dict(\n",
        "        #     family='Arial',\n",
        "        #     size=12,\n",
        "        #     color='rgb(150,150,150)'\n",
        "        # ),\n",
        "        showarrow=False\n",
        "    )\n",
        ")\n",
        "\n",
        "fig.update_layout(annotations=annotations)\n",
        "\n",
        "fig.show()"
      ],
      "metadata": {
        "colab": {
          "base_uri": "https://localhost:8080/",
          "height": 542
        },
        "id": "FYQoFc5Dahz-",
        "outputId": "031b33d8-0045-4e80-9944-29fb369a5154"
      },
      "execution_count": null,
      "outputs": [
        {
          "output_type": "display_data",
          "data": {
            "text/html": [
              "<html>\n",
              "<head><meta charset=\"utf-8\" /></head>\n",
              "<body>\n",
              "    <div>            <script src=\"https://cdnjs.cloudflare.com/ajax/libs/mathjax/2.7.5/MathJax.js?config=TeX-AMS-MML_SVG\"></script><script type=\"text/javascript\">if (window.MathJax && window.MathJax.Hub && window.MathJax.Hub.Config) {window.MathJax.Hub.Config({SVG: {font: \"STIX-Web\"}});}</script>                <script type=\"text/javascript\">window.PlotlyConfig = {MathJaxConfig: 'local'};</script>\n",
              "        <script charset=\"utf-8\" src=\"https://cdn.plot.ly/plotly-2.24.1.min.js\"></script>                <div id=\"df5bbc60-fcfb-4e59-805c-029475845b58\" class=\"plotly-graph-div\" style=\"height:525px; width:100%;\"></div>            <script type=\"text/javascript\">                                    window.PLOTLYENV=window.PLOTLYENV || {};                                    if (document.getElementById(\"df5bbc60-fcfb-4e59-805c-029475845b58\")) {                    Plotly.newPlot(                        \"df5bbc60-fcfb-4e59-805c-029475845b58\",                        [{\"line\":{\"width\":2.5},\"mode\":\"lines\",\"name\":\"Pre\\u00e7o de Fechamento\",\"y\":[14.5,14.4,14.5,14.45,14.62,14.6,14.56,14.55,14.58,14.62,14.59,14.66,14.74,14.76,14.76,14.48,14.41,14.24,14.46,14.41,14.82,14.85,15.14,15.16,15.27,15.33,15.19,15.07,15.11,15.14,15.28,15.55,15.49,15.34,15.38,15.22,15.22,15.41,15.41,15.14,15.21,14.83,14.85,15.01,14.63,14.69,14.76,14.74,14.82,14.67,14.63,14.92,15.3,15.12,15.03,14.98,14.7,14.96,14.86,14.98,15.05,14.63,14.71,14.68,14.5,14.38,14.37,14.36,14.33,14.2,14.18,14.22,14.36,14.31,14.42,14.45,14.19,13.99,14.21,14.26,14.18,13.84,13.87,13.86,14.01,13.98,13.7,13.87,13.71,13.64,13.53,13.42,13.39,13.43,13.47,13.24,13.12,13.22,13.04,12.97,12.98,13.11,13.09,13.05,13.21,12.89,13.19,13.17,13.25,13.29,12.98,13.01,12.8,12.53,12.52,12.49,12.48,12.52,12.44,12.63,12.29,12.36,12.86,12.99,13.29,13.51,13.57,13.54,13.41,13.35,13.43,13.7,13.67,13.6,13.6,13.44,13.57,13.55,13.39,13.58,13.65,13.3,13.69,14.08,14.06,14.24,13.99,14.08,14.31,14.32,14.23,14.7,14.5,14.47,14.55,14.7,13.74,13.7,13.71,13.77,13.84,13.73,13.71,13.6,13.65,13.6,13.71,13.62,13.76,13.56,13.59,13.59,13.35,13.43,13.34,13.35,13.36,13.37,13.28,13.2,13.2,13.25,13.04,13.08,13.07,13.07,13.09,13.23,13.0,12.95,12.95,12.92,12.85,12.76,12.81,12.85,12.9,12.96,12.89,13.04],\"type\":\"scatter\"},{\"line\":{\"color\":\"#cc66cc\",\"width\":1.25},\"mode\":\"lines\",\"name\":\"M\\u00e9dia M\\u00f3vel (8p)\",\"y\":[14.4112,14.4412,14.4838,14.5075,14.5125,14.5088,14.5175,14.5225,14.5325,14.56,14.5712,14.5975,14.6125,14.6325,14.6575,14.6488,14.6275,14.58,14.5638,14.5325,14.5425,14.5538,14.6012,14.6862,14.7938,14.93,15.0212,15.1038,15.14,15.1762,15.1938,15.2425,15.27,15.2712,15.295,15.3138,15.3275,15.3612,15.3775,15.3262,15.2912,15.2275,15.1612,15.135,15.0612,14.9712,14.89,14.84,14.7913,14.7712,14.7438,14.7325,14.8162,14.87,14.9038,14.9338,14.9188,14.955,14.9838,14.9912,14.96,14.8988,14.8588,14.8212,14.7962,14.7238,14.6625,14.585,14.495,14.4412,14.375,14.3175,14.3,14.2912,14.2975,14.3088,14.2912,14.265,14.2688,14.2738,14.2512,14.1925,14.1238,14.05,14.0275,14.0262,13.9625,13.9138,13.855,13.83,13.7875,13.7325,13.655,13.5862,13.5575,13.4788,13.405,13.3525,13.2913,13.235,13.1838,13.1438,13.0962,13.0725,13.0838,13.0425,13.0613,13.0862,13.12,13.1425,13.1288,13.1238,13.0725,13.0275,12.9438,12.8588,12.7625,12.6663,12.5988,12.5512,12.4875,12.4662,12.5087,12.5712,12.6725,12.7962,12.9375,13.0512,13.1912,13.315,13.3862,13.475,13.5225,13.5338,13.5375,13.525,13.545,13.57,13.565,13.55,13.5475,13.51,13.5212,13.6012,13.6625,13.7488,13.8238,13.8862,13.9688,14.0962,14.1638,14.2412,14.2962,14.325,14.395,14.4725,14.4012,14.3238,14.2588,14.1425,14.06,13.9675,13.8625,13.725,13.7138,13.7012,13.7012,13.6825,13.6725,13.6512,13.6362,13.635,13.5975,13.5762,13.53,13.4962,13.4462,13.4225,13.3838,13.335,13.3162,13.2938,13.2562,13.2225,13.1862,13.1488,13.125,13.1288,13.1038,13.0662,13.055,13.035,13.0075,12.9688,12.9338,12.8862,12.8738,12.875,12.8675,12.8825],\"type\":\"scatter\"},{\"line\":{\"color\":\"#000000\",\"width\":1.25},\"mode\":\"lines\",\"name\":\"M\\u00e9dia M\\u00f3vel (20p)\",\"y\":[14.4965,14.4935,14.4795,14.464,14.4655,14.463,14.4535,14.4495,14.4495,14.4505,14.463,14.4815,14.508,14.538,14.568,14.579,14.5705,14.551,14.5495,14.5445,14.5605,14.583,14.615,14.6505,14.683,14.7195,14.751,14.777,14.8035,14.8295,14.864,14.9085,14.946,14.975,15.006,15.043,15.0835,15.142,15.1895,15.226,15.2455,15.2445,15.23,15.2225,15.1905,15.1585,15.137,15.1205,15.106,15.0825,15.05,15.0185,15.009,14.998,14.9805,14.9685,14.9425,14.92,14.8925,14.8845,14.8765,14.8665,14.8595,14.843,14.8365,14.821,14.8015,14.7825,14.758,14.7345,14.712,14.677,14.63,14.5895,14.559,14.5325,14.507,14.4585,14.426,14.39,14.3465,14.307,14.265,14.224,14.1995,14.1795,14.146,14.1215,14.0905,14.0625,14.03,13.99,13.9415,13.8975,13.85,13.7895,13.736,13.6975,13.639,13.5745,13.5145,13.478,13.439,13.3985,13.3585,13.304,13.2785,13.2435,13.2205,13.203,13.1755,13.155,13.1255,13.0805,13.033,12.9955,12.9635,12.9285,12.8985,12.8815,12.847,12.8095,12.798,12.795,12.799,12.83,12.849,12.8675,12.8755,12.8785,12.901,12.9355,12.979,13.0325,13.0865,13.134,13.1885,13.24,13.2875,13.335,13.403,13.45,13.4915,13.546,13.5845,13.621,13.642,13.669,13.714,13.7625,13.8025,13.8525,13.894,13.9375,13.985,14.048,14.0565,14.064,14.08,14.0895,14.099,14.1205,14.1215,14.0975,14.077,14.045,14.031,14.008,13.9805,13.9425,13.9105,13.855,13.7975,13.7455,13.685,13.6175,13.5985,13.582,13.5605,13.532,13.5,13.476,13.4425,13.4165,13.3875,13.361,13.33,13.3105,13.2725,13.242,13.21,13.1765,13.1515,13.118,13.0915,13.0665,13.0435,13.023,13.0035,12.9955],\"type\":\"scatter\"},{\"line\":{\"color\":\"#99994d\",\"width\":1.25},\"mode\":\"lines\",\"name\":\"M\\u00e9dia M\\u00f3vel (72p)\",\"y\":[13.8746,13.8882,13.9006,13.9108,13.9231,13.9362,13.9506,13.9629,13.9824,14.0033,14.0257,14.0485,14.0732,14.095,14.1192,14.1417,14.1594,14.1767,14.1938,14.2122,14.2347,14.2575,14.2838,14.3093,14.3353,14.3622,14.3861,14.4131,14.4408,14.4636,14.4893,14.5161,14.5424,14.5678,14.5924,14.61,14.6267,14.6426,14.6592,14.6733,14.6908,14.7031,14.7179,14.7335,14.7432,14.7446,14.7439,14.7428,14.7496,14.7543,14.7571,14.7643,14.7764,14.7856,14.789,14.7921,14.7936,14.7979,14.7994,14.8043,14.8108,14.8112,14.8164,14.8218,14.8258,14.8289,14.8318,14.8332,14.8297,14.8238,14.8194,14.8154,14.8135,14.8122,14.8111,14.8111,14.8051,14.7967,14.7918,14.7878,14.7822,14.7714,14.7614,14.7503,14.7401,14.7293,14.7146,14.7061,14.6964,14.6881,14.6751,14.6614,14.6415,14.6218,14.5986,14.5719,14.5421,14.5128,14.4829,14.4537,14.4242,14.396,14.3656,14.3308,14.2992,14.2651,14.2347,14.2062,14.1789,14.1494,14.1157,14.0861,14.0526,14.0207,13.9883,13.9533,13.9235,13.8933,13.8611,13.8318,13.7967,13.7646,13.74,13.7132,13.6853,13.6629,13.6426,13.6226,13.6047,13.5824,13.5625,13.5447,13.5256,13.5112,13.4958,13.4786,13.4657,13.4542,13.4406,13.4297,13.4203,13.4078,13.401,13.399,13.3949,13.3939,13.3879,13.3828,13.3844,13.389,13.3893,13.3954,13.3999,13.4086,13.4181,13.4297,13.426,13.4221,13.4222,13.4208,13.4226,13.4239,13.4264,13.4289,13.4325,13.4349,13.4382,13.4435,13.4524,13.4571,13.4647,13.4733,13.4785,13.4829,13.4864,13.4906,13.4926,13.4993,13.5006,13.501,13.5003,13.4997,13.5006,13.5015,13.5053,13.5128,13.5207,13.531,13.5382,13.5442,13.5512,13.5553,13.5631,13.5686,13.5679,13.566,13.5606,13.5529,13.5435,13.5365],\"type\":\"scatter\"}],                        {\"template\":{\"data\":{\"histogram2dcontour\":[{\"type\":\"histogram2dcontour\",\"colorbar\":{\"outlinewidth\":0,\"ticks\":\"\"},\"colorscale\":[[0.0,\"#0d0887\"],[0.1111111111111111,\"#46039f\"],[0.2222222222222222,\"#7201a8\"],[0.3333333333333333,\"#9c179e\"],[0.4444444444444444,\"#bd3786\"],[0.5555555555555556,\"#d8576b\"],[0.6666666666666666,\"#ed7953\"],[0.7777777777777778,\"#fb9f3a\"],[0.8888888888888888,\"#fdca26\"],[1.0,\"#f0f921\"]]}],\"choropleth\":[{\"type\":\"choropleth\",\"colorbar\":{\"outlinewidth\":0,\"ticks\":\"\"}}],\"histogram2d\":[{\"type\":\"histogram2d\",\"colorbar\":{\"outlinewidth\":0,\"ticks\":\"\"},\"colorscale\":[[0.0,\"#0d0887\"],[0.1111111111111111,\"#46039f\"],[0.2222222222222222,\"#7201a8\"],[0.3333333333333333,\"#9c179e\"],[0.4444444444444444,\"#bd3786\"],[0.5555555555555556,\"#d8576b\"],[0.6666666666666666,\"#ed7953\"],[0.7777777777777778,\"#fb9f3a\"],[0.8888888888888888,\"#fdca26\"],[1.0,\"#f0f921\"]]}],\"heatmap\":[{\"type\":\"heatmap\",\"colorbar\":{\"outlinewidth\":0,\"ticks\":\"\"},\"colorscale\":[[0.0,\"#0d0887\"],[0.1111111111111111,\"#46039f\"],[0.2222222222222222,\"#7201a8\"],[0.3333333333333333,\"#9c179e\"],[0.4444444444444444,\"#bd3786\"],[0.5555555555555556,\"#d8576b\"],[0.6666666666666666,\"#ed7953\"],[0.7777777777777778,\"#fb9f3a\"],[0.8888888888888888,\"#fdca26\"],[1.0,\"#f0f921\"]]}],\"heatmapgl\":[{\"type\":\"heatmapgl\",\"colorbar\":{\"outlinewidth\":0,\"ticks\":\"\"},\"colorscale\":[[0.0,\"#0d0887\"],[0.1111111111111111,\"#46039f\"],[0.2222222222222222,\"#7201a8\"],[0.3333333333333333,\"#9c179e\"],[0.4444444444444444,\"#bd3786\"],[0.5555555555555556,\"#d8576b\"],[0.6666666666666666,\"#ed7953\"],[0.7777777777777778,\"#fb9f3a\"],[0.8888888888888888,\"#fdca26\"],[1.0,\"#f0f921\"]]}],\"contourcarpet\":[{\"type\":\"contourcarpet\",\"colorbar\":{\"outlinewidth\":0,\"ticks\":\"\"}}],\"contour\":[{\"type\":\"contour\",\"colorbar\":{\"outlinewidth\":0,\"ticks\":\"\"},\"colorscale\":[[0.0,\"#0d0887\"],[0.1111111111111111,\"#46039f\"],[0.2222222222222222,\"#7201a8\"],[0.3333333333333333,\"#9c179e\"],[0.4444444444444444,\"#bd3786\"],[0.5555555555555556,\"#d8576b\"],[0.6666666666666666,\"#ed7953\"],[0.7777777777777778,\"#fb9f3a\"],[0.8888888888888888,\"#fdca26\"],[1.0,\"#f0f921\"]]}],\"surface\":[{\"type\":\"surface\",\"colorbar\":{\"outlinewidth\":0,\"ticks\":\"\"},\"colorscale\":[[0.0,\"#0d0887\"],[0.1111111111111111,\"#46039f\"],[0.2222222222222222,\"#7201a8\"],[0.3333333333333333,\"#9c179e\"],[0.4444444444444444,\"#bd3786\"],[0.5555555555555556,\"#d8576b\"],[0.6666666666666666,\"#ed7953\"],[0.7777777777777778,\"#fb9f3a\"],[0.8888888888888888,\"#fdca26\"],[1.0,\"#f0f921\"]]}],\"mesh3d\":[{\"type\":\"mesh3d\",\"colorbar\":{\"outlinewidth\":0,\"ticks\":\"\"}}],\"scatter\":[{\"fillpattern\":{\"fillmode\":\"overlay\",\"size\":10,\"solidity\":0.2},\"type\":\"scatter\"}],\"parcoords\":[{\"type\":\"parcoords\",\"line\":{\"colorbar\":{\"outlinewidth\":0,\"ticks\":\"\"}}}],\"scatterpolargl\":[{\"type\":\"scatterpolargl\",\"marker\":{\"colorbar\":{\"outlinewidth\":0,\"ticks\":\"\"}}}],\"bar\":[{\"error_x\":{\"color\":\"#2a3f5f\"},\"error_y\":{\"color\":\"#2a3f5f\"},\"marker\":{\"line\":{\"color\":\"#E5ECF6\",\"width\":0.5},\"pattern\":{\"fillmode\":\"overlay\",\"size\":10,\"solidity\":0.2}},\"type\":\"bar\"}],\"scattergeo\":[{\"type\":\"scattergeo\",\"marker\":{\"colorbar\":{\"outlinewidth\":0,\"ticks\":\"\"}}}],\"scatterpolar\":[{\"type\":\"scatterpolar\",\"marker\":{\"colorbar\":{\"outlinewidth\":0,\"ticks\":\"\"}}}],\"histogram\":[{\"marker\":{\"pattern\":{\"fillmode\":\"overlay\",\"size\":10,\"solidity\":0.2}},\"type\":\"histogram\"}],\"scattergl\":[{\"type\":\"scattergl\",\"marker\":{\"colorbar\":{\"outlinewidth\":0,\"ticks\":\"\"}}}],\"scatter3d\":[{\"type\":\"scatter3d\",\"line\":{\"colorbar\":{\"outlinewidth\":0,\"ticks\":\"\"}},\"marker\":{\"colorbar\":{\"outlinewidth\":0,\"ticks\":\"\"}}}],\"scattermapbox\":[{\"type\":\"scattermapbox\",\"marker\":{\"colorbar\":{\"outlinewidth\":0,\"ticks\":\"\"}}}],\"scatterternary\":[{\"type\":\"scatterternary\",\"marker\":{\"colorbar\":{\"outlinewidth\":0,\"ticks\":\"\"}}}],\"scattercarpet\":[{\"type\":\"scattercarpet\",\"marker\":{\"colorbar\":{\"outlinewidth\":0,\"ticks\":\"\"}}}],\"carpet\":[{\"aaxis\":{\"endlinecolor\":\"#2a3f5f\",\"gridcolor\":\"white\",\"linecolor\":\"white\",\"minorgridcolor\":\"white\",\"startlinecolor\":\"#2a3f5f\"},\"baxis\":{\"endlinecolor\":\"#2a3f5f\",\"gridcolor\":\"white\",\"linecolor\":\"white\",\"minorgridcolor\":\"white\",\"startlinecolor\":\"#2a3f5f\"},\"type\":\"carpet\"}],\"table\":[{\"cells\":{\"fill\":{\"color\":\"#EBF0F8\"},\"line\":{\"color\":\"white\"}},\"header\":{\"fill\":{\"color\":\"#C8D4E3\"},\"line\":{\"color\":\"white\"}},\"type\":\"table\"}],\"barpolar\":[{\"marker\":{\"line\":{\"color\":\"#E5ECF6\",\"width\":0.5},\"pattern\":{\"fillmode\":\"overlay\",\"size\":10,\"solidity\":0.2}},\"type\":\"barpolar\"}],\"pie\":[{\"automargin\":true,\"type\":\"pie\"}]},\"layout\":{\"autotypenumbers\":\"strict\",\"colorway\":[\"#636efa\",\"#EF553B\",\"#00cc96\",\"#ab63fa\",\"#FFA15A\",\"#19d3f3\",\"#FF6692\",\"#B6E880\",\"#FF97FF\",\"#FECB52\"],\"font\":{\"color\":\"#2a3f5f\"},\"hovermode\":\"closest\",\"hoverlabel\":{\"align\":\"left\"},\"paper_bgcolor\":\"white\",\"plot_bgcolor\":\"#E5ECF6\",\"polar\":{\"bgcolor\":\"#E5ECF6\",\"angularaxis\":{\"gridcolor\":\"white\",\"linecolor\":\"white\",\"ticks\":\"\"},\"radialaxis\":{\"gridcolor\":\"white\",\"linecolor\":\"white\",\"ticks\":\"\"}},\"ternary\":{\"bgcolor\":\"#E5ECF6\",\"aaxis\":{\"gridcolor\":\"white\",\"linecolor\":\"white\",\"ticks\":\"\"},\"baxis\":{\"gridcolor\":\"white\",\"linecolor\":\"white\",\"ticks\":\"\"},\"caxis\":{\"gridcolor\":\"white\",\"linecolor\":\"white\",\"ticks\":\"\"}},\"coloraxis\":{\"colorbar\":{\"outlinewidth\":0,\"ticks\":\"\"}},\"colorscale\":{\"sequential\":[[0.0,\"#0d0887\"],[0.1111111111111111,\"#46039f\"],[0.2222222222222222,\"#7201a8\"],[0.3333333333333333,\"#9c179e\"],[0.4444444444444444,\"#bd3786\"],[0.5555555555555556,\"#d8576b\"],[0.6666666666666666,\"#ed7953\"],[0.7777777777777778,\"#fb9f3a\"],[0.8888888888888888,\"#fdca26\"],[1.0,\"#f0f921\"]],\"sequentialminus\":[[0.0,\"#0d0887\"],[0.1111111111111111,\"#46039f\"],[0.2222222222222222,\"#7201a8\"],[0.3333333333333333,\"#9c179e\"],[0.4444444444444444,\"#bd3786\"],[0.5555555555555556,\"#d8576b\"],[0.6666666666666666,\"#ed7953\"],[0.7777777777777778,\"#fb9f3a\"],[0.8888888888888888,\"#fdca26\"],[1.0,\"#f0f921\"]],\"diverging\":[[0,\"#8e0152\"],[0.1,\"#c51b7d\"],[0.2,\"#de77ae\"],[0.3,\"#f1b6da\"],[0.4,\"#fde0ef\"],[0.5,\"#f7f7f7\"],[0.6,\"#e6f5d0\"],[0.7,\"#b8e186\"],[0.8,\"#7fbc41\"],[0.9,\"#4d9221\"],[1,\"#276419\"]]},\"xaxis\":{\"gridcolor\":\"white\",\"linecolor\":\"white\",\"ticks\":\"\",\"title\":{\"standoff\":15},\"zerolinecolor\":\"white\",\"automargin\":true,\"zerolinewidth\":2},\"yaxis\":{\"gridcolor\":\"white\",\"linecolor\":\"white\",\"ticks\":\"\",\"title\":{\"standoff\":15},\"zerolinecolor\":\"white\",\"automargin\":true,\"zerolinewidth\":2},\"scene\":{\"xaxis\":{\"backgroundcolor\":\"#E5ECF6\",\"gridcolor\":\"white\",\"linecolor\":\"white\",\"showbackground\":true,\"ticks\":\"\",\"zerolinecolor\":\"white\",\"gridwidth\":2},\"yaxis\":{\"backgroundcolor\":\"#E5ECF6\",\"gridcolor\":\"white\",\"linecolor\":\"white\",\"showbackground\":true,\"ticks\":\"\",\"zerolinecolor\":\"white\",\"gridwidth\":2},\"zaxis\":{\"backgroundcolor\":\"#E5ECF6\",\"gridcolor\":\"white\",\"linecolor\":\"white\",\"showbackground\":true,\"ticks\":\"\",\"zerolinecolor\":\"white\",\"gridwidth\":2}},\"shapedefaults\":{\"line\":{\"color\":\"#2a3f5f\"}},\"annotationdefaults\":{\"arrowcolor\":\"#2a3f5f\",\"arrowhead\":0,\"arrowwidth\":1},\"geo\":{\"bgcolor\":\"white\",\"landcolor\":\"#E5ECF6\",\"subunitcolor\":\"white\",\"showland\":true,\"showlakes\":true,\"lakecolor\":\"white\"},\"title\":{\"x\":0.05},\"mapbox\":{\"style\":\"light\"}}},\"title\":{\"text\":\"\\u00daltimos 200 preg\\u00f5es na Bolsa de Valores da a\\u00e7\\u00e3o ABEV3 [\\u00daltimo registro: 2024-02-26]\"},\"xaxis\":{\"title\":{\"text\":\"Per\\u00edodos (dias)\"}},\"yaxis\":{\"title\":{\"text\":\"Pre\\u00e7o de fechamento (R$)\"}},\"legend\":{\"title\":{\"text\":\"S\\u00e9rie e m\\u00e9dias m\\u00f3veis\"}},\"annotations\":[{\"showarrow\":false,\"text\":\"\\u00daltimo registro: 2024-02-26\",\"x\":0.9,\"xanchor\":\"center\",\"xref\":\"paper\",\"y\":-0.1,\"yanchor\":\"top\",\"yref\":\"paper\"}]},                        {\"responsive\": true}                    ).then(function(){\n",
              "                            \n",
              "var gd = document.getElementById('df5bbc60-fcfb-4e59-805c-029475845b58');\n",
              "var x = new MutationObserver(function (mutations, observer) {{\n",
              "        var display = window.getComputedStyle(gd).display;\n",
              "        if (!display || display === 'none') {{\n",
              "            console.log([gd, 'removed!']);\n",
              "            Plotly.purge(gd);\n",
              "            observer.disconnect();\n",
              "        }}\n",
              "}});\n",
              "\n",
              "// Listen for the removal of the full notebook cells\n",
              "var notebookContainer = gd.closest('#notebook-container');\n",
              "if (notebookContainer) {{\n",
              "    x.observe(notebookContainer, {childList: true});\n",
              "}}\n",
              "\n",
              "// Listen for the clearing of the current output cell\n",
              "var outputEl = gd.closest('.output');\n",
              "if (outputEl) {{\n",
              "    x.observe(outputEl, {childList: true});\n",
              "}}\n",
              "\n",
              "                        })                };                            </script>        </div>\n",
              "</body>\n",
              "</html>"
            ]
          },
          "metadata": {}
        }
      ]
    },
    {
      "cell_type": "code",
      "source": [],
      "metadata": {
        "id": "lC55tiJVcbev"
      },
      "execution_count": null,
      "outputs": []
    },
    {
      "cell_type": "markdown",
      "source": [
        "---\n",
        "\n",
        "### Algoritmo de `Wald-Wolfowitz` (Teste de sazonalidade)"
      ],
      "metadata": {
        "id": "I7-DPeMe1pwz"
      }
    },
    {
      "cell_type": "code",
      "source": [
        "def simpleKW(y, freq=12):\n",
        "    from scipy.stats import chi2\n",
        "    Rank = np.array(pd.Series(y).rank(method='average', na_option='keep'))\n",
        "    extra = freq - len(Rank) % freq\n",
        "    dat = np.concatenate((np.repeat(np.nan, extra), Rank))\n",
        "    yMAT = dat.reshape((int(len(dat) / freq), freq))\n",
        "    Nobs = np.apply_along_axis(lambda x: np.count_nonzero(~np.isnan(x)), 0, yMAT)\n",
        "    R2n = np.power(np.apply_along_axis(np.nansum, 0, yMAT), 2) / Nobs\n",
        "    H = 12 / (sum(Nobs) * (sum(Nobs) + 1)) * sum(R2n) - 3 * (sum(Nobs) + 1)\n",
        "\n",
        "    if sum(np.unique(Rank, return_counts=True)[1] > 1) > 0:\n",
        "        valor = np.unique(Rank, return_counts=True)[1]\n",
        "        valor = valor[valor > 1]\n",
        "        sumT = sum(np.power(valor, 3) - valor)\n",
        "        Correction = 1 - sumT/(np.power(len(y),3) - len(y))\n",
        "        H = H / Correction\n",
        "\n",
        "    return 1 - chi2.cdf(H, freq - 1)"
      ],
      "metadata": {
        "id": "zzAbZ5RA1o1A"
      },
      "execution_count": null,
      "outputs": []
    },
    {
      "cell_type": "code",
      "source": [
        "for i in np.arange(2, 20):\n",
        "    print(f\"freq = {i} | p-value = {simpleKW(X, i)} \\t => {'Não indica sazonalidade' if simpleKW(X, i) >= 0.05 else 'Indica sazonalidade'}\")"
      ],
      "metadata": {
        "id": "isyme-xH1xmw",
        "colab": {
          "base_uri": "https://localhost:8080/"
        },
        "outputId": "f909462d-cc96-4145-ff0a-5120582437eb"
      },
      "execution_count": null,
      "outputs": [
        {
          "output_type": "stream",
          "name": "stdout",
          "text": [
            "freq = 2 | p-value = 0.9201994581777773 \t => Não indica sazonalidade\n",
            "freq = 3 | p-value = 0.9866909097275774 \t => Não indica sazonalidade\n",
            "freq = 4 | p-value = 0.9915802843499675 \t => Não indica sazonalidade\n",
            "freq = 5 | p-value = 0.9999541648267832 \t => Não indica sazonalidade\n",
            "freq = 6 | p-value = 0.9999399845211147 \t => Não indica sazonalidade\n",
            "freq = 7 | p-value = 0.9998099680762884 \t => Não indica sazonalidade\n",
            "freq = 8 | p-value = 0.9999932142075726 \t => Não indica sazonalidade\n",
            "freq = 9 | p-value = 0.999999433483589 \t => Não indica sazonalidade\n",
            "freq = 10 | p-value = 0.9999428381245381 \t => Não indica sazonalidade\n",
            "freq = 11 | p-value = 0.9999997499297593 \t => Não indica sazonalidade\n",
            "freq = 12 | p-value = 0.9999972575141687 \t => Não indica sazonalidade\n",
            "freq = 13 | p-value = 0.9999998989703917 \t => Não indica sazonalidade\n",
            "freq = 14 | p-value = 0.9999999484812143 \t => Não indica sazonalidade\n",
            "freq = 15 | p-value = 0.9999999965043911 \t => Não indica sazonalidade\n",
            "freq = 16 | p-value = 0.9999995373634346 \t => Não indica sazonalidade\n",
            "freq = 17 | p-value = 0.9999999962363901 \t => Não indica sazonalidade\n",
            "freq = 18 | p-value = 0.9999961929761433 \t => Não indica sazonalidade\n",
            "freq = 19 | p-value = 0.9999994574114245 \t => Não indica sazonalidade\n"
          ]
        }
      ]
    },
    {
      "cell_type": "markdown",
      "source": [
        "#### Resultado da análise\n",
        "- **`> Não indica sazonalidade`**"
      ],
      "metadata": {
        "id": "jbCiRGzHkb1q"
      }
    },
    {
      "cell_type": "markdown",
      "source": [
        "---\n",
        "\n",
        "### Normalizar e suavizar dados da série (**Não necessário**)\n",
        "* Não é necessário normalizar os dados pois a série tem um comportamento homogêneo com as médias móveis e não possui discrepâncias entre cada observação\n",
        "    * Cada observação é um dado do pregão na bolsa de valores e portanto, também, não há dados faltantes pois os pregões acontecem e são registrados em todos os dias úteis do ano\n",
        "* Também não é preciso suavizar a série, pelos mesmos motivos anteriores e por não haver ruídos nos dados registrados em cada pregão da bolsa de valores"
      ],
      "metadata": {
        "id": "IRUZAu6_lAv_"
      }
    },
    {
      "cell_type": "code",
      "source": [],
      "metadata": {
        "id": "lzOKSHzsk_Hz"
      },
      "execution_count": null,
      "outputs": []
    },
    {
      "cell_type": "markdown",
      "source": [
        "---\n",
        "\n",
        "### Modelo Holt-Winters (aditivo e/ou multiplicativo)"
      ],
      "metadata": {
        "id": "1SnP3Es_L-5D"
      }
    },
    {
      "cell_type": "code",
      "source": [
        "from statsmodels.tsa.holtwinters import ExponentialSmoothing\n",
        "from sklearn.metrics import mean_squared_error as mse\n",
        "from sklearn.metrics import mean_absolute_error as mae\n",
        "from sklearn.metrics import mean_absolute_percentage_error as mape"
      ],
      "metadata": {
        "id": "-f2_1XtPvWHJ"
      },
      "execution_count": null,
      "outputs": []
    },
    {
      "cell_type": "code",
      "source": [
        "fig = go.Figure()\n",
        "\n",
        "fig.add_trace(\n",
        "    go.Scatter(\n",
        "        y=X,\n",
        "        mode='lines',\n",
        "        name='Preço de Fechamento',\n",
        "        line = dict(width=2.5)\n",
        "    )\n",
        ")\n",
        "\n",
        "fig.update_layout(\n",
        "    title=f\"Últimos {periods} pregões na Bolsa de Valores da ação {ticker} [Último registro: {df['date'].max()}]\",\n",
        "    xaxis_title=\"Períodos (dias)\",\n",
        "    yaxis_title=\"Preço de fechamento (R$)\",\n",
        "    legend_title=\"Série e médias móveis\",\n",
        "    # font=dict(\n",
        "    #     family=\"Courier New, monospace\",\n",
        "    #     size=18,\n",
        "    #     color=\"RebeccaPurple\"\n",
        "    # )\n",
        ")\n",
        "\n",
        "annotations = []\n",
        "annotations.append(\n",
        "    dict(\n",
        "        xref='paper', yref='paper', x=0.9, y=-0.1,\n",
        "        xanchor='center', yanchor='top', text=f\"Último registro: {df['date'].max()}\",\n",
        "        # font=dict(\n",
        "        #     family='Arial',\n",
        "        #     size=12,\n",
        "        #     color='rgb(150,150,150)'\n",
        "        # ),\n",
        "        showarrow=False\n",
        "    )\n",
        ")\n",
        "\n",
        "fig.update_layout(annotations=annotations)\n",
        "fig.show()"
      ],
      "metadata": {
        "colab": {
          "base_uri": "https://localhost:8080/",
          "height": 542
        },
        "id": "BQomPythMJlV",
        "outputId": "61e58a1f-711d-4abb-c9d3-81ff7bc8e7d2"
      },
      "execution_count": null,
      "outputs": [
        {
          "output_type": "display_data",
          "data": {
            "text/html": [
              "<html>\n",
              "<head><meta charset=\"utf-8\" /></head>\n",
              "<body>\n",
              "    <div>            <script src=\"https://cdnjs.cloudflare.com/ajax/libs/mathjax/2.7.5/MathJax.js?config=TeX-AMS-MML_SVG\"></script><script type=\"text/javascript\">if (window.MathJax && window.MathJax.Hub && window.MathJax.Hub.Config) {window.MathJax.Hub.Config({SVG: {font: \"STIX-Web\"}});}</script>                <script type=\"text/javascript\">window.PlotlyConfig = {MathJaxConfig: 'local'};</script>\n",
              "        <script charset=\"utf-8\" src=\"https://cdn.plot.ly/plotly-2.24.1.min.js\"></script>                <div id=\"36e35e00-3b9b-403e-afe2-0c12babab299\" class=\"plotly-graph-div\" style=\"height:525px; width:100%;\"></div>            <script type=\"text/javascript\">                                    window.PLOTLYENV=window.PLOTLYENV || {};                                    if (document.getElementById(\"36e35e00-3b9b-403e-afe2-0c12babab299\")) {                    Plotly.newPlot(                        \"36e35e00-3b9b-403e-afe2-0c12babab299\",                        [{\"line\":{\"width\":2.5},\"mode\":\"lines\",\"name\":\"Pre\\u00e7o de Fechamento\",\"y\":[14.5,14.4,14.5,14.45,14.62,14.6,14.56,14.55,14.58,14.62,14.59,14.66,14.74,14.76,14.76,14.48,14.41,14.24,14.46,14.41,14.82,14.85,15.14,15.16,15.27,15.33,15.19,15.07,15.11,15.14,15.28,15.55,15.49,15.34,15.38,15.22,15.22,15.41,15.41,15.14,15.21,14.83,14.85,15.01,14.63,14.69,14.76,14.74,14.82,14.67,14.63,14.92,15.3,15.12,15.03,14.98,14.7,14.96,14.86,14.98,15.05,14.63,14.71,14.68,14.5,14.38,14.37,14.36,14.33,14.2,14.18,14.22,14.36,14.31,14.42,14.45,14.19,13.99,14.21,14.26,14.18,13.84,13.87,13.86,14.01,13.98,13.7,13.87,13.71,13.64,13.53,13.42,13.39,13.43,13.47,13.24,13.12,13.22,13.04,12.97,12.98,13.11,13.09,13.05,13.21,12.89,13.19,13.17,13.25,13.29,12.98,13.01,12.8,12.53,12.52,12.49,12.48,12.52,12.44,12.63,12.29,12.36,12.86,12.99,13.29,13.51,13.57,13.54,13.41,13.35,13.43,13.7,13.67,13.6,13.6,13.44,13.57,13.55,13.39,13.58,13.65,13.3,13.69,14.08,14.06,14.24,13.99,14.08,14.31,14.32,14.23,14.7,14.5,14.47,14.55,14.7,13.74,13.7,13.71,13.77,13.84,13.73,13.71,13.6,13.65,13.6,13.71,13.62,13.76,13.56,13.59,13.59,13.35,13.43,13.34,13.35,13.36,13.37,13.28,13.2,13.2,13.25,13.04,13.08,13.07,13.07,13.09,13.23,13.0,12.95,12.95,12.92,12.85,12.76,12.81,12.85,12.9,12.96,12.89,13.04],\"type\":\"scatter\"}],                        {\"template\":{\"data\":{\"histogram2dcontour\":[{\"type\":\"histogram2dcontour\",\"colorbar\":{\"outlinewidth\":0,\"ticks\":\"\"},\"colorscale\":[[0.0,\"#0d0887\"],[0.1111111111111111,\"#46039f\"],[0.2222222222222222,\"#7201a8\"],[0.3333333333333333,\"#9c179e\"],[0.4444444444444444,\"#bd3786\"],[0.5555555555555556,\"#d8576b\"],[0.6666666666666666,\"#ed7953\"],[0.7777777777777778,\"#fb9f3a\"],[0.8888888888888888,\"#fdca26\"],[1.0,\"#f0f921\"]]}],\"choropleth\":[{\"type\":\"choropleth\",\"colorbar\":{\"outlinewidth\":0,\"ticks\":\"\"}}],\"histogram2d\":[{\"type\":\"histogram2d\",\"colorbar\":{\"outlinewidth\":0,\"ticks\":\"\"},\"colorscale\":[[0.0,\"#0d0887\"],[0.1111111111111111,\"#46039f\"],[0.2222222222222222,\"#7201a8\"],[0.3333333333333333,\"#9c179e\"],[0.4444444444444444,\"#bd3786\"],[0.5555555555555556,\"#d8576b\"],[0.6666666666666666,\"#ed7953\"],[0.7777777777777778,\"#fb9f3a\"],[0.8888888888888888,\"#fdca26\"],[1.0,\"#f0f921\"]]}],\"heatmap\":[{\"type\":\"heatmap\",\"colorbar\":{\"outlinewidth\":0,\"ticks\":\"\"},\"colorscale\":[[0.0,\"#0d0887\"],[0.1111111111111111,\"#46039f\"],[0.2222222222222222,\"#7201a8\"],[0.3333333333333333,\"#9c179e\"],[0.4444444444444444,\"#bd3786\"],[0.5555555555555556,\"#d8576b\"],[0.6666666666666666,\"#ed7953\"],[0.7777777777777778,\"#fb9f3a\"],[0.8888888888888888,\"#fdca26\"],[1.0,\"#f0f921\"]]}],\"heatmapgl\":[{\"type\":\"heatmapgl\",\"colorbar\":{\"outlinewidth\":0,\"ticks\":\"\"},\"colorscale\":[[0.0,\"#0d0887\"],[0.1111111111111111,\"#46039f\"],[0.2222222222222222,\"#7201a8\"],[0.3333333333333333,\"#9c179e\"],[0.4444444444444444,\"#bd3786\"],[0.5555555555555556,\"#d8576b\"],[0.6666666666666666,\"#ed7953\"],[0.7777777777777778,\"#fb9f3a\"],[0.8888888888888888,\"#fdca26\"],[1.0,\"#f0f921\"]]}],\"contourcarpet\":[{\"type\":\"contourcarpet\",\"colorbar\":{\"outlinewidth\":0,\"ticks\":\"\"}}],\"contour\":[{\"type\":\"contour\",\"colorbar\":{\"outlinewidth\":0,\"ticks\":\"\"},\"colorscale\":[[0.0,\"#0d0887\"],[0.1111111111111111,\"#46039f\"],[0.2222222222222222,\"#7201a8\"],[0.3333333333333333,\"#9c179e\"],[0.4444444444444444,\"#bd3786\"],[0.5555555555555556,\"#d8576b\"],[0.6666666666666666,\"#ed7953\"],[0.7777777777777778,\"#fb9f3a\"],[0.8888888888888888,\"#fdca26\"],[1.0,\"#f0f921\"]]}],\"surface\":[{\"type\":\"surface\",\"colorbar\":{\"outlinewidth\":0,\"ticks\":\"\"},\"colorscale\":[[0.0,\"#0d0887\"],[0.1111111111111111,\"#46039f\"],[0.2222222222222222,\"#7201a8\"],[0.3333333333333333,\"#9c179e\"],[0.4444444444444444,\"#bd3786\"],[0.5555555555555556,\"#d8576b\"],[0.6666666666666666,\"#ed7953\"],[0.7777777777777778,\"#fb9f3a\"],[0.8888888888888888,\"#fdca26\"],[1.0,\"#f0f921\"]]}],\"mesh3d\":[{\"type\":\"mesh3d\",\"colorbar\":{\"outlinewidth\":0,\"ticks\":\"\"}}],\"scatter\":[{\"fillpattern\":{\"fillmode\":\"overlay\",\"size\":10,\"solidity\":0.2},\"type\":\"scatter\"}],\"parcoords\":[{\"type\":\"parcoords\",\"line\":{\"colorbar\":{\"outlinewidth\":0,\"ticks\":\"\"}}}],\"scatterpolargl\":[{\"type\":\"scatterpolargl\",\"marker\":{\"colorbar\":{\"outlinewidth\":0,\"ticks\":\"\"}}}],\"bar\":[{\"error_x\":{\"color\":\"#2a3f5f\"},\"error_y\":{\"color\":\"#2a3f5f\"},\"marker\":{\"line\":{\"color\":\"#E5ECF6\",\"width\":0.5},\"pattern\":{\"fillmode\":\"overlay\",\"size\":10,\"solidity\":0.2}},\"type\":\"bar\"}],\"scattergeo\":[{\"type\":\"scattergeo\",\"marker\":{\"colorbar\":{\"outlinewidth\":0,\"ticks\":\"\"}}}],\"scatterpolar\":[{\"type\":\"scatterpolar\",\"marker\":{\"colorbar\":{\"outlinewidth\":0,\"ticks\":\"\"}}}],\"histogram\":[{\"marker\":{\"pattern\":{\"fillmode\":\"overlay\",\"size\":10,\"solidity\":0.2}},\"type\":\"histogram\"}],\"scattergl\":[{\"type\":\"scattergl\",\"marker\":{\"colorbar\":{\"outlinewidth\":0,\"ticks\":\"\"}}}],\"scatter3d\":[{\"type\":\"scatter3d\",\"line\":{\"colorbar\":{\"outlinewidth\":0,\"ticks\":\"\"}},\"marker\":{\"colorbar\":{\"outlinewidth\":0,\"ticks\":\"\"}}}],\"scattermapbox\":[{\"type\":\"scattermapbox\",\"marker\":{\"colorbar\":{\"outlinewidth\":0,\"ticks\":\"\"}}}],\"scatterternary\":[{\"type\":\"scatterternary\",\"marker\":{\"colorbar\":{\"outlinewidth\":0,\"ticks\":\"\"}}}],\"scattercarpet\":[{\"type\":\"scattercarpet\",\"marker\":{\"colorbar\":{\"outlinewidth\":0,\"ticks\":\"\"}}}],\"carpet\":[{\"aaxis\":{\"endlinecolor\":\"#2a3f5f\",\"gridcolor\":\"white\",\"linecolor\":\"white\",\"minorgridcolor\":\"white\",\"startlinecolor\":\"#2a3f5f\"},\"baxis\":{\"endlinecolor\":\"#2a3f5f\",\"gridcolor\":\"white\",\"linecolor\":\"white\",\"minorgridcolor\":\"white\",\"startlinecolor\":\"#2a3f5f\"},\"type\":\"carpet\"}],\"table\":[{\"cells\":{\"fill\":{\"color\":\"#EBF0F8\"},\"line\":{\"color\":\"white\"}},\"header\":{\"fill\":{\"color\":\"#C8D4E3\"},\"line\":{\"color\":\"white\"}},\"type\":\"table\"}],\"barpolar\":[{\"marker\":{\"line\":{\"color\":\"#E5ECF6\",\"width\":0.5},\"pattern\":{\"fillmode\":\"overlay\",\"size\":10,\"solidity\":0.2}},\"type\":\"barpolar\"}],\"pie\":[{\"automargin\":true,\"type\":\"pie\"}]},\"layout\":{\"autotypenumbers\":\"strict\",\"colorway\":[\"#636efa\",\"#EF553B\",\"#00cc96\",\"#ab63fa\",\"#FFA15A\",\"#19d3f3\",\"#FF6692\",\"#B6E880\",\"#FF97FF\",\"#FECB52\"],\"font\":{\"color\":\"#2a3f5f\"},\"hovermode\":\"closest\",\"hoverlabel\":{\"align\":\"left\"},\"paper_bgcolor\":\"white\",\"plot_bgcolor\":\"#E5ECF6\",\"polar\":{\"bgcolor\":\"#E5ECF6\",\"angularaxis\":{\"gridcolor\":\"white\",\"linecolor\":\"white\",\"ticks\":\"\"},\"radialaxis\":{\"gridcolor\":\"white\",\"linecolor\":\"white\",\"ticks\":\"\"}},\"ternary\":{\"bgcolor\":\"#E5ECF6\",\"aaxis\":{\"gridcolor\":\"white\",\"linecolor\":\"white\",\"ticks\":\"\"},\"baxis\":{\"gridcolor\":\"white\",\"linecolor\":\"white\",\"ticks\":\"\"},\"caxis\":{\"gridcolor\":\"white\",\"linecolor\":\"white\",\"ticks\":\"\"}},\"coloraxis\":{\"colorbar\":{\"outlinewidth\":0,\"ticks\":\"\"}},\"colorscale\":{\"sequential\":[[0.0,\"#0d0887\"],[0.1111111111111111,\"#46039f\"],[0.2222222222222222,\"#7201a8\"],[0.3333333333333333,\"#9c179e\"],[0.4444444444444444,\"#bd3786\"],[0.5555555555555556,\"#d8576b\"],[0.6666666666666666,\"#ed7953\"],[0.7777777777777778,\"#fb9f3a\"],[0.8888888888888888,\"#fdca26\"],[1.0,\"#f0f921\"]],\"sequentialminus\":[[0.0,\"#0d0887\"],[0.1111111111111111,\"#46039f\"],[0.2222222222222222,\"#7201a8\"],[0.3333333333333333,\"#9c179e\"],[0.4444444444444444,\"#bd3786\"],[0.5555555555555556,\"#d8576b\"],[0.6666666666666666,\"#ed7953\"],[0.7777777777777778,\"#fb9f3a\"],[0.8888888888888888,\"#fdca26\"],[1.0,\"#f0f921\"]],\"diverging\":[[0,\"#8e0152\"],[0.1,\"#c51b7d\"],[0.2,\"#de77ae\"],[0.3,\"#f1b6da\"],[0.4,\"#fde0ef\"],[0.5,\"#f7f7f7\"],[0.6,\"#e6f5d0\"],[0.7,\"#b8e186\"],[0.8,\"#7fbc41\"],[0.9,\"#4d9221\"],[1,\"#276419\"]]},\"xaxis\":{\"gridcolor\":\"white\",\"linecolor\":\"white\",\"ticks\":\"\",\"title\":{\"standoff\":15},\"zerolinecolor\":\"white\",\"automargin\":true,\"zerolinewidth\":2},\"yaxis\":{\"gridcolor\":\"white\",\"linecolor\":\"white\",\"ticks\":\"\",\"title\":{\"standoff\":15},\"zerolinecolor\":\"white\",\"automargin\":true,\"zerolinewidth\":2},\"scene\":{\"xaxis\":{\"backgroundcolor\":\"#E5ECF6\",\"gridcolor\":\"white\",\"linecolor\":\"white\",\"showbackground\":true,\"ticks\":\"\",\"zerolinecolor\":\"white\",\"gridwidth\":2},\"yaxis\":{\"backgroundcolor\":\"#E5ECF6\",\"gridcolor\":\"white\",\"linecolor\":\"white\",\"showbackground\":true,\"ticks\":\"\",\"zerolinecolor\":\"white\",\"gridwidth\":2},\"zaxis\":{\"backgroundcolor\":\"#E5ECF6\",\"gridcolor\":\"white\",\"linecolor\":\"white\",\"showbackground\":true,\"ticks\":\"\",\"zerolinecolor\":\"white\",\"gridwidth\":2}},\"shapedefaults\":{\"line\":{\"color\":\"#2a3f5f\"}},\"annotationdefaults\":{\"arrowcolor\":\"#2a3f5f\",\"arrowhead\":0,\"arrowwidth\":1},\"geo\":{\"bgcolor\":\"white\",\"landcolor\":\"#E5ECF6\",\"subunitcolor\":\"white\",\"showland\":true,\"showlakes\":true,\"lakecolor\":\"white\"},\"title\":{\"x\":0.05},\"mapbox\":{\"style\":\"light\"}}},\"title\":{\"text\":\"\\u00daltimos 200 preg\\u00f5es na Bolsa de Valores da a\\u00e7\\u00e3o ABEV3 [\\u00daltimo registro: 2024-02-26]\"},\"xaxis\":{\"title\":{\"text\":\"Per\\u00edodos (dias)\"}},\"yaxis\":{\"title\":{\"text\":\"Pre\\u00e7o de fechamento (R$)\"}},\"legend\":{\"title\":{\"text\":\"S\\u00e9rie e m\\u00e9dias m\\u00f3veis\"}},\"annotations\":[{\"showarrow\":false,\"text\":\"\\u00daltimo registro: 2024-02-26\",\"x\":0.9,\"xanchor\":\"center\",\"xref\":\"paper\",\"y\":-0.1,\"yanchor\":\"top\",\"yref\":\"paper\"}]},                        {\"responsive\": true}                    ).then(function(){\n",
              "                            \n",
              "var gd = document.getElementById('36e35e00-3b9b-403e-afe2-0c12babab299');\n",
              "var x = new MutationObserver(function (mutations, observer) {{\n",
              "        var display = window.getComputedStyle(gd).display;\n",
              "        if (!display || display === 'none') {{\n",
              "            console.log([gd, 'removed!']);\n",
              "            Plotly.purge(gd);\n",
              "            observer.disconnect();\n",
              "        }}\n",
              "}});\n",
              "\n",
              "// Listen for the removal of the full notebook cells\n",
              "var notebookContainer = gd.closest('#notebook-container');\n",
              "if (notebookContainer) {{\n",
              "    x.observe(notebookContainer, {childList: true});\n",
              "}}\n",
              "\n",
              "// Listen for the clearing of the current output cell\n",
              "var outputEl = gd.closest('.output');\n",
              "if (outputEl) {{\n",
              "    x.observe(outputEl, {childList: true});\n",
              "}}\n",
              "\n",
              "                        })                };                            </script>        </div>\n",
              "</body>\n",
              "</html>"
            ]
          },
          "metadata": {}
        }
      ]
    },
    {
      "cell_type": "code",
      "source": [
        "periods_forecast = 20\n",
        "X_train = X[:len(X) - periods_forecast]\n",
        "X_test = X[-periods_forecast: ]\n",
        "\n",
        "print(f\"X train: {len(X_train)} | X test: {len(X_test)}\")"
      ],
      "metadata": {
        "colab": {
          "base_uri": "https://localhost:8080/"
        },
        "id": "YshY67h0szit",
        "outputId": "549ac85e-85a5-4ca7-c114-85dd96744fb3"
      },
      "execution_count": null,
      "outputs": [
        {
          "output_type": "stream",
          "name": "stdout",
          "text": [
            "X train: 180 | X test: 20\n"
          ]
        }
      ]
    },
    {
      "cell_type": "code",
      "source": [
        "# Model training (Aditivo)\n",
        "model_add = ExponentialSmoothing(\n",
        "    X_train,\n",
        "    trend=\"add\", seasonal=\"add\",\n",
        "    seasonal_periods=25\n",
        ").fit()\n",
        "\n",
        "# Prediction\n",
        "Y_add = model_add.forecast(periods_forecast)"
      ],
      "metadata": {
        "id": "BdvmDkJ8tU4n"
      },
      "execution_count": null,
      "outputs": []
    },
    {
      "cell_type": "code",
      "source": [
        "# Model training (Multiplicativo)\n",
        "model_mul = ExponentialSmoothing(\n",
        "    X_train,\n",
        "    trend=\"mul\", seasonal=\"mul\",\n",
        "    seasonal_periods=25\n",
        ").fit()\n",
        "\n",
        "# Prediction\n",
        "Y_mul = model_mul.forecast(periods_forecast)"
      ],
      "metadata": {
        "id": "zzfW6kJo9Tai"
      },
      "execution_count": null,
      "outputs": []
    },
    {
      "cell_type": "code",
      "source": [
        "fig = go.Figure()\n",
        "\n",
        "fig.add_trace(\n",
        "    go.Scatter(\n",
        "        y=X_train.tolist() + [None] * (len(X) - len(X_train)),\n",
        "        mode='lines',\n",
        "        name='Treinamento',\n",
        "        line = dict(width=1.25)\n",
        "    )\n",
        ")\n",
        "\n",
        "fig.add_trace(\n",
        "    go.Scatter(\n",
        "        y=[None] * len(X_train) + X_test.tolist(),\n",
        "        mode='lines',\n",
        "        name='Teste',\n",
        "        line = dict(color='#cc66cc', width=1.25) # , dash='dash')\n",
        "    )\n",
        ")\n",
        "\n",
        "fig.add_trace(\n",
        "    go.Scatter(\n",
        "        y=[None] * len(X_train) + Y_add.tolist(),\n",
        "        mode='lines',\n",
        "        name='Predito',\n",
        "        line = dict(color='#000000', width=1.25) # , dash='dash')\n",
        "    )\n",
        ")\n",
        "\n",
        "fig.update_layout(\n",
        "    title=f\"Predição dos valores de fechamento de {ticker} [Holt-Winters Aditivo]\",\n",
        "    xaxis_title=\"Períodos (dias)\",\n",
        "    yaxis_title=\"Preço (R$)\",\n",
        "    legend_title=\"\",\n",
        "    # font=dict(\n",
        "    #     family=\"Courier New, monospace\",\n",
        "    #     size=18,\n",
        "    #     color=\"RebeccaPurple\"\n",
        "    # )\n",
        ")\n",
        "\n",
        "annotations = []\n",
        "annotations.append(\n",
        "    dict(\n",
        "        xref='paper', yref='paper', x=0.9, y=-0.1,\n",
        "        xanchor='center', yanchor='top', text=f\"Último registro: {df['date'].max()}\",\n",
        "        # font=dict(\n",
        "        #     family='Arial',\n",
        "        #     size=12,\n",
        "        #     color='rgb(150,150,150)'\n",
        "        # ),\n",
        "        showarrow=False\n",
        "    )\n",
        ")\n",
        "\n",
        "fig.update_layout(annotations=annotations)\n",
        "\n",
        "fig.show()"
      ],
      "metadata": {
        "colab": {
          "base_uri": "https://localhost:8080/",
          "height": 542
        },
        "id": "gM8q5Al-xQXV",
        "outputId": "7cdbf0ba-ac7d-4383-bbb2-6597611075e3"
      },
      "execution_count": null,
      "outputs": [
        {
          "output_type": "display_data",
          "data": {
            "text/html": [
              "<html>\n",
              "<head><meta charset=\"utf-8\" /></head>\n",
              "<body>\n",
              "    <div>            <script src=\"https://cdnjs.cloudflare.com/ajax/libs/mathjax/2.7.5/MathJax.js?config=TeX-AMS-MML_SVG\"></script><script type=\"text/javascript\">if (window.MathJax && window.MathJax.Hub && window.MathJax.Hub.Config) {window.MathJax.Hub.Config({SVG: {font: \"STIX-Web\"}});}</script>                <script type=\"text/javascript\">window.PlotlyConfig = {MathJaxConfig: 'local'};</script>\n",
              "        <script charset=\"utf-8\" src=\"https://cdn.plot.ly/plotly-2.24.1.min.js\"></script>                <div id=\"67933e64-e59a-4a0b-9667-d8ccf0ed898b\" class=\"plotly-graph-div\" style=\"height:525px; width:100%;\"></div>            <script type=\"text/javascript\">                                    window.PLOTLYENV=window.PLOTLYENV || {};                                    if (document.getElementById(\"67933e64-e59a-4a0b-9667-d8ccf0ed898b\")) {                    Plotly.newPlot(                        \"67933e64-e59a-4a0b-9667-d8ccf0ed898b\",                        [{\"line\":{\"width\":1.25},\"mode\":\"lines\",\"name\":\"Treinamento\",\"y\":[14.5,14.4,14.5,14.45,14.62,14.6,14.56,14.55,14.58,14.62,14.59,14.66,14.74,14.76,14.76,14.48,14.41,14.24,14.46,14.41,14.82,14.85,15.14,15.16,15.27,15.33,15.19,15.07,15.11,15.14,15.28,15.55,15.49,15.34,15.38,15.22,15.22,15.41,15.41,15.14,15.21,14.83,14.85,15.01,14.63,14.69,14.76,14.74,14.82,14.67,14.63,14.92,15.3,15.12,15.03,14.98,14.7,14.96,14.86,14.98,15.05,14.63,14.71,14.68,14.5,14.38,14.37,14.36,14.33,14.2,14.18,14.22,14.36,14.31,14.42,14.45,14.19,13.99,14.21,14.26,14.18,13.84,13.87,13.86,14.01,13.98,13.7,13.87,13.71,13.64,13.53,13.42,13.39,13.43,13.47,13.24,13.12,13.22,13.04,12.97,12.98,13.11,13.09,13.05,13.21,12.89,13.19,13.17,13.25,13.29,12.98,13.01,12.8,12.53,12.52,12.49,12.48,12.52,12.44,12.63,12.29,12.36,12.86,12.99,13.29,13.51,13.57,13.54,13.41,13.35,13.43,13.7,13.67,13.6,13.6,13.44,13.57,13.55,13.39,13.58,13.65,13.3,13.69,14.08,14.06,14.24,13.99,14.08,14.31,14.32,14.23,14.7,14.5,14.47,14.55,14.7,13.74,13.7,13.71,13.77,13.84,13.73,13.71,13.6,13.65,13.6,13.71,13.62,13.76,13.56,13.59,13.59,13.35,13.43,13.34,13.35,13.36,13.37,13.28,13.2,null,null,null,null,null,null,null,null,null,null,null,null,null,null,null,null,null,null,null,null],\"type\":\"scatter\"},{\"line\":{\"color\":\"#cc66cc\",\"width\":1.25},\"mode\":\"lines\",\"name\":\"Teste\",\"y\":[null,null,null,null,null,null,null,null,null,null,null,null,null,null,null,null,null,null,null,null,null,null,null,null,null,null,null,null,null,null,null,null,null,null,null,null,null,null,null,null,null,null,null,null,null,null,null,null,null,null,null,null,null,null,null,null,null,null,null,null,null,null,null,null,null,null,null,null,null,null,null,null,null,null,null,null,null,null,null,null,null,null,null,null,null,null,null,null,null,null,null,null,null,null,null,null,null,null,null,null,null,null,null,null,null,null,null,null,null,null,null,null,null,null,null,null,null,null,null,null,null,null,null,null,null,null,null,null,null,null,null,null,null,null,null,null,null,null,null,null,null,null,null,null,null,null,null,null,null,null,null,null,null,null,null,null,null,null,null,null,null,null,null,null,null,null,null,null,null,null,null,null,null,null,null,null,null,null,null,null,13.2,13.25,13.04,13.08,13.07,13.07,13.09,13.23,13.0,12.95,12.95,12.92,12.85,12.76,12.81,12.85,12.9,12.96,12.89,13.04],\"type\":\"scatter\"},{\"line\":{\"color\":\"#000000\",\"width\":1.25},\"mode\":\"lines\",\"name\":\"Predito\",\"y\":[null,null,null,null,null,null,null,null,null,null,null,null,null,null,null,null,null,null,null,null,null,null,null,null,null,null,null,null,null,null,null,null,null,null,null,null,null,null,null,null,null,null,null,null,null,null,null,null,null,null,null,null,null,null,null,null,null,null,null,null,null,null,null,null,null,null,null,null,null,null,null,null,null,null,null,null,null,null,null,null,null,null,null,null,null,null,null,null,null,null,null,null,null,null,null,null,null,null,null,null,null,null,null,null,null,null,null,null,null,null,null,null,null,null,null,null,null,null,null,null,null,null,null,null,null,null,null,null,null,null,null,null,null,null,null,null,null,null,null,null,null,null,null,null,null,null,null,null,null,null,null,null,null,null,null,null,null,null,null,null,null,null,null,null,null,null,null,null,null,null,null,null,null,null,null,null,null,null,null,null,13.204631324029743,13.093217426367953,13.111792738450406,13.08176862618134,13.146044133167313,13.067466635800754,12.984638619331891,13.023203273296575,12.921773379923145,12.880347267115166,12.816093960666393,12.698926772588727,12.72036752277382,12.840372277885194,12.761811783614702,12.774675594814113,12.751814812881335,12.874663583715728,12.918980645767293,12.950377204073398],\"type\":\"scatter\"}],                        {\"template\":{\"data\":{\"histogram2dcontour\":[{\"type\":\"histogram2dcontour\",\"colorbar\":{\"outlinewidth\":0,\"ticks\":\"\"},\"colorscale\":[[0.0,\"#0d0887\"],[0.1111111111111111,\"#46039f\"],[0.2222222222222222,\"#7201a8\"],[0.3333333333333333,\"#9c179e\"],[0.4444444444444444,\"#bd3786\"],[0.5555555555555556,\"#d8576b\"],[0.6666666666666666,\"#ed7953\"],[0.7777777777777778,\"#fb9f3a\"],[0.8888888888888888,\"#fdca26\"],[1.0,\"#f0f921\"]]}],\"choropleth\":[{\"type\":\"choropleth\",\"colorbar\":{\"outlinewidth\":0,\"ticks\":\"\"}}],\"histogram2d\":[{\"type\":\"histogram2d\",\"colorbar\":{\"outlinewidth\":0,\"ticks\":\"\"},\"colorscale\":[[0.0,\"#0d0887\"],[0.1111111111111111,\"#46039f\"],[0.2222222222222222,\"#7201a8\"],[0.3333333333333333,\"#9c179e\"],[0.4444444444444444,\"#bd3786\"],[0.5555555555555556,\"#d8576b\"],[0.6666666666666666,\"#ed7953\"],[0.7777777777777778,\"#fb9f3a\"],[0.8888888888888888,\"#fdca26\"],[1.0,\"#f0f921\"]]}],\"heatmap\":[{\"type\":\"heatmap\",\"colorbar\":{\"outlinewidth\":0,\"ticks\":\"\"},\"colorscale\":[[0.0,\"#0d0887\"],[0.1111111111111111,\"#46039f\"],[0.2222222222222222,\"#7201a8\"],[0.3333333333333333,\"#9c179e\"],[0.4444444444444444,\"#bd3786\"],[0.5555555555555556,\"#d8576b\"],[0.6666666666666666,\"#ed7953\"],[0.7777777777777778,\"#fb9f3a\"],[0.8888888888888888,\"#fdca26\"],[1.0,\"#f0f921\"]]}],\"heatmapgl\":[{\"type\":\"heatmapgl\",\"colorbar\":{\"outlinewidth\":0,\"ticks\":\"\"},\"colorscale\":[[0.0,\"#0d0887\"],[0.1111111111111111,\"#46039f\"],[0.2222222222222222,\"#7201a8\"],[0.3333333333333333,\"#9c179e\"],[0.4444444444444444,\"#bd3786\"],[0.5555555555555556,\"#d8576b\"],[0.6666666666666666,\"#ed7953\"],[0.7777777777777778,\"#fb9f3a\"],[0.8888888888888888,\"#fdca26\"],[1.0,\"#f0f921\"]]}],\"contourcarpet\":[{\"type\":\"contourcarpet\",\"colorbar\":{\"outlinewidth\":0,\"ticks\":\"\"}}],\"contour\":[{\"type\":\"contour\",\"colorbar\":{\"outlinewidth\":0,\"ticks\":\"\"},\"colorscale\":[[0.0,\"#0d0887\"],[0.1111111111111111,\"#46039f\"],[0.2222222222222222,\"#7201a8\"],[0.3333333333333333,\"#9c179e\"],[0.4444444444444444,\"#bd3786\"],[0.5555555555555556,\"#d8576b\"],[0.6666666666666666,\"#ed7953\"],[0.7777777777777778,\"#fb9f3a\"],[0.8888888888888888,\"#fdca26\"],[1.0,\"#f0f921\"]]}],\"surface\":[{\"type\":\"surface\",\"colorbar\":{\"outlinewidth\":0,\"ticks\":\"\"},\"colorscale\":[[0.0,\"#0d0887\"],[0.1111111111111111,\"#46039f\"],[0.2222222222222222,\"#7201a8\"],[0.3333333333333333,\"#9c179e\"],[0.4444444444444444,\"#bd3786\"],[0.5555555555555556,\"#d8576b\"],[0.6666666666666666,\"#ed7953\"],[0.7777777777777778,\"#fb9f3a\"],[0.8888888888888888,\"#fdca26\"],[1.0,\"#f0f921\"]]}],\"mesh3d\":[{\"type\":\"mesh3d\",\"colorbar\":{\"outlinewidth\":0,\"ticks\":\"\"}}],\"scatter\":[{\"fillpattern\":{\"fillmode\":\"overlay\",\"size\":10,\"solidity\":0.2},\"type\":\"scatter\"}],\"parcoords\":[{\"type\":\"parcoords\",\"line\":{\"colorbar\":{\"outlinewidth\":0,\"ticks\":\"\"}}}],\"scatterpolargl\":[{\"type\":\"scatterpolargl\",\"marker\":{\"colorbar\":{\"outlinewidth\":0,\"ticks\":\"\"}}}],\"bar\":[{\"error_x\":{\"color\":\"#2a3f5f\"},\"error_y\":{\"color\":\"#2a3f5f\"},\"marker\":{\"line\":{\"color\":\"#E5ECF6\",\"width\":0.5},\"pattern\":{\"fillmode\":\"overlay\",\"size\":10,\"solidity\":0.2}},\"type\":\"bar\"}],\"scattergeo\":[{\"type\":\"scattergeo\",\"marker\":{\"colorbar\":{\"outlinewidth\":0,\"ticks\":\"\"}}}],\"scatterpolar\":[{\"type\":\"scatterpolar\",\"marker\":{\"colorbar\":{\"outlinewidth\":0,\"ticks\":\"\"}}}],\"histogram\":[{\"marker\":{\"pattern\":{\"fillmode\":\"overlay\",\"size\":10,\"solidity\":0.2}},\"type\":\"histogram\"}],\"scattergl\":[{\"type\":\"scattergl\",\"marker\":{\"colorbar\":{\"outlinewidth\":0,\"ticks\":\"\"}}}],\"scatter3d\":[{\"type\":\"scatter3d\",\"line\":{\"colorbar\":{\"outlinewidth\":0,\"ticks\":\"\"}},\"marker\":{\"colorbar\":{\"outlinewidth\":0,\"ticks\":\"\"}}}],\"scattermapbox\":[{\"type\":\"scattermapbox\",\"marker\":{\"colorbar\":{\"outlinewidth\":0,\"ticks\":\"\"}}}],\"scatterternary\":[{\"type\":\"scatterternary\",\"marker\":{\"colorbar\":{\"outlinewidth\":0,\"ticks\":\"\"}}}],\"scattercarpet\":[{\"type\":\"scattercarpet\",\"marker\":{\"colorbar\":{\"outlinewidth\":0,\"ticks\":\"\"}}}],\"carpet\":[{\"aaxis\":{\"endlinecolor\":\"#2a3f5f\",\"gridcolor\":\"white\",\"linecolor\":\"white\",\"minorgridcolor\":\"white\",\"startlinecolor\":\"#2a3f5f\"},\"baxis\":{\"endlinecolor\":\"#2a3f5f\",\"gridcolor\":\"white\",\"linecolor\":\"white\",\"minorgridcolor\":\"white\",\"startlinecolor\":\"#2a3f5f\"},\"type\":\"carpet\"}],\"table\":[{\"cells\":{\"fill\":{\"color\":\"#EBF0F8\"},\"line\":{\"color\":\"white\"}},\"header\":{\"fill\":{\"color\":\"#C8D4E3\"},\"line\":{\"color\":\"white\"}},\"type\":\"table\"}],\"barpolar\":[{\"marker\":{\"line\":{\"color\":\"#E5ECF6\",\"width\":0.5},\"pattern\":{\"fillmode\":\"overlay\",\"size\":10,\"solidity\":0.2}},\"type\":\"barpolar\"}],\"pie\":[{\"automargin\":true,\"type\":\"pie\"}]},\"layout\":{\"autotypenumbers\":\"strict\",\"colorway\":[\"#636efa\",\"#EF553B\",\"#00cc96\",\"#ab63fa\",\"#FFA15A\",\"#19d3f3\",\"#FF6692\",\"#B6E880\",\"#FF97FF\",\"#FECB52\"],\"font\":{\"color\":\"#2a3f5f\"},\"hovermode\":\"closest\",\"hoverlabel\":{\"align\":\"left\"},\"paper_bgcolor\":\"white\",\"plot_bgcolor\":\"#E5ECF6\",\"polar\":{\"bgcolor\":\"#E5ECF6\",\"angularaxis\":{\"gridcolor\":\"white\",\"linecolor\":\"white\",\"ticks\":\"\"},\"radialaxis\":{\"gridcolor\":\"white\",\"linecolor\":\"white\",\"ticks\":\"\"}},\"ternary\":{\"bgcolor\":\"#E5ECF6\",\"aaxis\":{\"gridcolor\":\"white\",\"linecolor\":\"white\",\"ticks\":\"\"},\"baxis\":{\"gridcolor\":\"white\",\"linecolor\":\"white\",\"ticks\":\"\"},\"caxis\":{\"gridcolor\":\"white\",\"linecolor\":\"white\",\"ticks\":\"\"}},\"coloraxis\":{\"colorbar\":{\"outlinewidth\":0,\"ticks\":\"\"}},\"colorscale\":{\"sequential\":[[0.0,\"#0d0887\"],[0.1111111111111111,\"#46039f\"],[0.2222222222222222,\"#7201a8\"],[0.3333333333333333,\"#9c179e\"],[0.4444444444444444,\"#bd3786\"],[0.5555555555555556,\"#d8576b\"],[0.6666666666666666,\"#ed7953\"],[0.7777777777777778,\"#fb9f3a\"],[0.8888888888888888,\"#fdca26\"],[1.0,\"#f0f921\"]],\"sequentialminus\":[[0.0,\"#0d0887\"],[0.1111111111111111,\"#46039f\"],[0.2222222222222222,\"#7201a8\"],[0.3333333333333333,\"#9c179e\"],[0.4444444444444444,\"#bd3786\"],[0.5555555555555556,\"#d8576b\"],[0.6666666666666666,\"#ed7953\"],[0.7777777777777778,\"#fb9f3a\"],[0.8888888888888888,\"#fdca26\"],[1.0,\"#f0f921\"]],\"diverging\":[[0,\"#8e0152\"],[0.1,\"#c51b7d\"],[0.2,\"#de77ae\"],[0.3,\"#f1b6da\"],[0.4,\"#fde0ef\"],[0.5,\"#f7f7f7\"],[0.6,\"#e6f5d0\"],[0.7,\"#b8e186\"],[0.8,\"#7fbc41\"],[0.9,\"#4d9221\"],[1,\"#276419\"]]},\"xaxis\":{\"gridcolor\":\"white\",\"linecolor\":\"white\",\"ticks\":\"\",\"title\":{\"standoff\":15},\"zerolinecolor\":\"white\",\"automargin\":true,\"zerolinewidth\":2},\"yaxis\":{\"gridcolor\":\"white\",\"linecolor\":\"white\",\"ticks\":\"\",\"title\":{\"standoff\":15},\"zerolinecolor\":\"white\",\"automargin\":true,\"zerolinewidth\":2},\"scene\":{\"xaxis\":{\"backgroundcolor\":\"#E5ECF6\",\"gridcolor\":\"white\",\"linecolor\":\"white\",\"showbackground\":true,\"ticks\":\"\",\"zerolinecolor\":\"white\",\"gridwidth\":2},\"yaxis\":{\"backgroundcolor\":\"#E5ECF6\",\"gridcolor\":\"white\",\"linecolor\":\"white\",\"showbackground\":true,\"ticks\":\"\",\"zerolinecolor\":\"white\",\"gridwidth\":2},\"zaxis\":{\"backgroundcolor\":\"#E5ECF6\",\"gridcolor\":\"white\",\"linecolor\":\"white\",\"showbackground\":true,\"ticks\":\"\",\"zerolinecolor\":\"white\",\"gridwidth\":2}},\"shapedefaults\":{\"line\":{\"color\":\"#2a3f5f\"}},\"annotationdefaults\":{\"arrowcolor\":\"#2a3f5f\",\"arrowhead\":0,\"arrowwidth\":1},\"geo\":{\"bgcolor\":\"white\",\"landcolor\":\"#E5ECF6\",\"subunitcolor\":\"white\",\"showland\":true,\"showlakes\":true,\"lakecolor\":\"white\"},\"title\":{\"x\":0.05},\"mapbox\":{\"style\":\"light\"}}},\"title\":{\"text\":\"Predi\\u00e7\\u00e3o dos valores de fechamento de ABEV3 [Holt-Winters Aditivo]\"},\"xaxis\":{\"title\":{\"text\":\"Per\\u00edodos (dias)\"}},\"yaxis\":{\"title\":{\"text\":\"Pre\\u00e7o (R$)\"}},\"legend\":{\"title\":{\"text\":\"\"}},\"annotations\":[{\"showarrow\":false,\"text\":\"\\u00daltimo registro: 2024-02-26\",\"x\":0.9,\"xanchor\":\"center\",\"xref\":\"paper\",\"y\":-0.1,\"yanchor\":\"top\",\"yref\":\"paper\"}]},                        {\"responsive\": true}                    ).then(function(){\n",
              "                            \n",
              "var gd = document.getElementById('67933e64-e59a-4a0b-9667-d8ccf0ed898b');\n",
              "var x = new MutationObserver(function (mutations, observer) {{\n",
              "        var display = window.getComputedStyle(gd).display;\n",
              "        if (!display || display === 'none') {{\n",
              "            console.log([gd, 'removed!']);\n",
              "            Plotly.purge(gd);\n",
              "            observer.disconnect();\n",
              "        }}\n",
              "}});\n",
              "\n",
              "// Listen for the removal of the full notebook cells\n",
              "var notebookContainer = gd.closest('#notebook-container');\n",
              "if (notebookContainer) {{\n",
              "    x.observe(notebookContainer, {childList: true});\n",
              "}}\n",
              "\n",
              "// Listen for the clearing of the current output cell\n",
              "var outputEl = gd.closest('.output');\n",
              "if (outputEl) {{\n",
              "    x.observe(outputEl, {childList: true});\n",
              "}}\n",
              "\n",
              "                        })                };                            </script>        </div>\n",
              "</body>\n",
              "</html>"
            ]
          },
          "metadata": {}
        }
      ]
    },
    {
      "cell_type": "code",
      "source": [
        "fig = go.Figure()\n",
        "\n",
        "fig.add_trace(\n",
        "    go.Scatter(\n",
        "        y=X_train.tolist() + [None] * (len(X) - len(X_train)),\n",
        "        mode='lines',\n",
        "        name='Treinamento',\n",
        "        line = dict(width=1.25)\n",
        "    )\n",
        ")\n",
        "\n",
        "fig.add_trace(\n",
        "    go.Scatter(\n",
        "        y=[None] * len(X_train) + X_test.tolist(),\n",
        "        mode='lines',\n",
        "        name='Teste',\n",
        "        line = dict(color='#cc66cc', width=1.25) # , dash='dash')\n",
        "    )\n",
        ")\n",
        "\n",
        "fig.add_trace(\n",
        "    go.Scatter(\n",
        "        y=[None] * len(X_train) + Y_mul.tolist(),\n",
        "        mode='lines',\n",
        "        name='Predito',\n",
        "        line = dict(color='#000000', width=1.25) # , dash='dash')\n",
        "    )\n",
        ")\n",
        "\n",
        "fig.update_layout(\n",
        "    title=f\"Predição dos valores de fechamento de {ticker} [Holt-Winters Multiplicativo]\",\n",
        "    xaxis_title=\"Períodos (dias)\",\n",
        "    yaxis_title=\"Preço (R$)\",\n",
        "    legend_title=\"\",\n",
        "    # font=dict(\n",
        "    #     family=\"Courier New, monospace\",\n",
        "    #     size=18,\n",
        "    #     color=\"RebeccaPurple\"\n",
        "    # )\n",
        ")\n",
        "\n",
        "annotations = []\n",
        "annotations.append(\n",
        "    dict(\n",
        "        xref='paper', yref='paper', x=0.9, y=-0.1,\n",
        "        xanchor='center', yanchor='top', text=f\"Último registro: {df['date'].max()}\",\n",
        "        # font=dict(\n",
        "        #     family='Arial',\n",
        "        #     size=12,\n",
        "        #     color='rgb(150,150,150)'\n",
        "        # ),\n",
        "        showarrow=False\n",
        "    )\n",
        ")\n",
        "\n",
        "fig.update_layout(annotations=annotations)\n",
        "\n",
        "fig.show()"
      ],
      "metadata": {
        "colab": {
          "base_uri": "https://localhost:8080/",
          "height": 542
        },
        "id": "-SbN3Fvz9o9Y",
        "outputId": "7a96be7c-4134-4fc6-dd99-5ba608082214"
      },
      "execution_count": null,
      "outputs": [
        {
          "output_type": "display_data",
          "data": {
            "text/html": [
              "<html>\n",
              "<head><meta charset=\"utf-8\" /></head>\n",
              "<body>\n",
              "    <div>            <script src=\"https://cdnjs.cloudflare.com/ajax/libs/mathjax/2.7.5/MathJax.js?config=TeX-AMS-MML_SVG\"></script><script type=\"text/javascript\">if (window.MathJax && window.MathJax.Hub && window.MathJax.Hub.Config) {window.MathJax.Hub.Config({SVG: {font: \"STIX-Web\"}});}</script>                <script type=\"text/javascript\">window.PlotlyConfig = {MathJaxConfig: 'local'};</script>\n",
              "        <script charset=\"utf-8\" src=\"https://cdn.plot.ly/plotly-2.24.1.min.js\"></script>                <div id=\"dd7fd81d-71b0-40c2-a823-4c6cae669e20\" class=\"plotly-graph-div\" style=\"height:525px; width:100%;\"></div>            <script type=\"text/javascript\">                                    window.PLOTLYENV=window.PLOTLYENV || {};                                    if (document.getElementById(\"dd7fd81d-71b0-40c2-a823-4c6cae669e20\")) {                    Plotly.newPlot(                        \"dd7fd81d-71b0-40c2-a823-4c6cae669e20\",                        [{\"line\":{\"width\":1.25},\"mode\":\"lines\",\"name\":\"Treinamento\",\"y\":[14.5,14.4,14.5,14.45,14.62,14.6,14.56,14.55,14.58,14.62,14.59,14.66,14.74,14.76,14.76,14.48,14.41,14.24,14.46,14.41,14.82,14.85,15.14,15.16,15.27,15.33,15.19,15.07,15.11,15.14,15.28,15.55,15.49,15.34,15.38,15.22,15.22,15.41,15.41,15.14,15.21,14.83,14.85,15.01,14.63,14.69,14.76,14.74,14.82,14.67,14.63,14.92,15.3,15.12,15.03,14.98,14.7,14.96,14.86,14.98,15.05,14.63,14.71,14.68,14.5,14.38,14.37,14.36,14.33,14.2,14.18,14.22,14.36,14.31,14.42,14.45,14.19,13.99,14.21,14.26,14.18,13.84,13.87,13.86,14.01,13.98,13.7,13.87,13.71,13.64,13.53,13.42,13.39,13.43,13.47,13.24,13.12,13.22,13.04,12.97,12.98,13.11,13.09,13.05,13.21,12.89,13.19,13.17,13.25,13.29,12.98,13.01,12.8,12.53,12.52,12.49,12.48,12.52,12.44,12.63,12.29,12.36,12.86,12.99,13.29,13.51,13.57,13.54,13.41,13.35,13.43,13.7,13.67,13.6,13.6,13.44,13.57,13.55,13.39,13.58,13.65,13.3,13.69,14.08,14.06,14.24,13.99,14.08,14.31,14.32,14.23,14.7,14.5,14.47,14.55,14.7,13.74,13.7,13.71,13.77,13.84,13.73,13.71,13.6,13.65,13.6,13.71,13.62,13.76,13.56,13.59,13.59,13.35,13.43,13.34,13.35,13.36,13.37,13.28,13.2,null,null,null,null,null,null,null,null,null,null,null,null,null,null,null,null,null,null,null,null],\"type\":\"scatter\"},{\"line\":{\"color\":\"#cc66cc\",\"width\":1.25},\"mode\":\"lines\",\"name\":\"Teste\",\"y\":[null,null,null,null,null,null,null,null,null,null,null,null,null,null,null,null,null,null,null,null,null,null,null,null,null,null,null,null,null,null,null,null,null,null,null,null,null,null,null,null,null,null,null,null,null,null,null,null,null,null,null,null,null,null,null,null,null,null,null,null,null,null,null,null,null,null,null,null,null,null,null,null,null,null,null,null,null,null,null,null,null,null,null,null,null,null,null,null,null,null,null,null,null,null,null,null,null,null,null,null,null,null,null,null,null,null,null,null,null,null,null,null,null,null,null,null,null,null,null,null,null,null,null,null,null,null,null,null,null,null,null,null,null,null,null,null,null,null,null,null,null,null,null,null,null,null,null,null,null,null,null,null,null,null,null,null,null,null,null,null,null,null,null,null,null,null,null,null,null,null,null,null,null,null,null,null,null,null,null,null,13.2,13.25,13.04,13.08,13.07,13.07,13.09,13.23,13.0,12.95,12.95,12.92,12.85,12.76,12.81,12.85,12.9,12.96,12.89,13.04],\"type\":\"scatter\"},{\"line\":{\"color\":\"#000000\",\"width\":1.25},\"mode\":\"lines\",\"name\":\"Predito\",\"y\":[null,null,null,null,null,null,null,null,null,null,null,null,null,null,null,null,null,null,null,null,null,null,null,null,null,null,null,null,null,null,null,null,null,null,null,null,null,null,null,null,null,null,null,null,null,null,null,null,null,null,null,null,null,null,null,null,null,null,null,null,null,null,null,null,null,null,null,null,null,null,null,null,null,null,null,null,null,null,null,null,null,null,null,null,null,null,null,null,null,null,null,null,null,null,null,null,null,null,null,null,null,null,null,null,null,null,null,null,null,null,null,null,null,null,null,null,null,null,null,null,null,null,null,null,null,null,null,null,null,null,null,null,null,null,null,null,null,null,null,null,null,null,null,null,null,null,null,null,null,null,null,null,null,null,null,null,null,null,null,null,null,null,null,null,null,null,null,null,null,null,null,null,null,null,null,null,null,null,null,null,13.208403296218636,13.097302676064174,13.116662187801731,13.086294689218658,13.145850431680307,13.075651078336987,12.99601470005007,13.036293498039992,12.947881410425913,12.904270286060724,12.844020753926786,12.732426031962824,12.749342492135495,12.862390188278614,12.783181412198328,12.802909539010392,12.78198075196586,12.891116322928116,12.932502996556506,12.960054785313595],\"type\":\"scatter\"}],                        {\"template\":{\"data\":{\"histogram2dcontour\":[{\"type\":\"histogram2dcontour\",\"colorbar\":{\"outlinewidth\":0,\"ticks\":\"\"},\"colorscale\":[[0.0,\"#0d0887\"],[0.1111111111111111,\"#46039f\"],[0.2222222222222222,\"#7201a8\"],[0.3333333333333333,\"#9c179e\"],[0.4444444444444444,\"#bd3786\"],[0.5555555555555556,\"#d8576b\"],[0.6666666666666666,\"#ed7953\"],[0.7777777777777778,\"#fb9f3a\"],[0.8888888888888888,\"#fdca26\"],[1.0,\"#f0f921\"]]}],\"choropleth\":[{\"type\":\"choropleth\",\"colorbar\":{\"outlinewidth\":0,\"ticks\":\"\"}}],\"histogram2d\":[{\"type\":\"histogram2d\",\"colorbar\":{\"outlinewidth\":0,\"ticks\":\"\"},\"colorscale\":[[0.0,\"#0d0887\"],[0.1111111111111111,\"#46039f\"],[0.2222222222222222,\"#7201a8\"],[0.3333333333333333,\"#9c179e\"],[0.4444444444444444,\"#bd3786\"],[0.5555555555555556,\"#d8576b\"],[0.6666666666666666,\"#ed7953\"],[0.7777777777777778,\"#fb9f3a\"],[0.8888888888888888,\"#fdca26\"],[1.0,\"#f0f921\"]]}],\"heatmap\":[{\"type\":\"heatmap\",\"colorbar\":{\"outlinewidth\":0,\"ticks\":\"\"},\"colorscale\":[[0.0,\"#0d0887\"],[0.1111111111111111,\"#46039f\"],[0.2222222222222222,\"#7201a8\"],[0.3333333333333333,\"#9c179e\"],[0.4444444444444444,\"#bd3786\"],[0.5555555555555556,\"#d8576b\"],[0.6666666666666666,\"#ed7953\"],[0.7777777777777778,\"#fb9f3a\"],[0.8888888888888888,\"#fdca26\"],[1.0,\"#f0f921\"]]}],\"heatmapgl\":[{\"type\":\"heatmapgl\",\"colorbar\":{\"outlinewidth\":0,\"ticks\":\"\"},\"colorscale\":[[0.0,\"#0d0887\"],[0.1111111111111111,\"#46039f\"],[0.2222222222222222,\"#7201a8\"],[0.3333333333333333,\"#9c179e\"],[0.4444444444444444,\"#bd3786\"],[0.5555555555555556,\"#d8576b\"],[0.6666666666666666,\"#ed7953\"],[0.7777777777777778,\"#fb9f3a\"],[0.8888888888888888,\"#fdca26\"],[1.0,\"#f0f921\"]]}],\"contourcarpet\":[{\"type\":\"contourcarpet\",\"colorbar\":{\"outlinewidth\":0,\"ticks\":\"\"}}],\"contour\":[{\"type\":\"contour\",\"colorbar\":{\"outlinewidth\":0,\"ticks\":\"\"},\"colorscale\":[[0.0,\"#0d0887\"],[0.1111111111111111,\"#46039f\"],[0.2222222222222222,\"#7201a8\"],[0.3333333333333333,\"#9c179e\"],[0.4444444444444444,\"#bd3786\"],[0.5555555555555556,\"#d8576b\"],[0.6666666666666666,\"#ed7953\"],[0.7777777777777778,\"#fb9f3a\"],[0.8888888888888888,\"#fdca26\"],[1.0,\"#f0f921\"]]}],\"surface\":[{\"type\":\"surface\",\"colorbar\":{\"outlinewidth\":0,\"ticks\":\"\"},\"colorscale\":[[0.0,\"#0d0887\"],[0.1111111111111111,\"#46039f\"],[0.2222222222222222,\"#7201a8\"],[0.3333333333333333,\"#9c179e\"],[0.4444444444444444,\"#bd3786\"],[0.5555555555555556,\"#d8576b\"],[0.6666666666666666,\"#ed7953\"],[0.7777777777777778,\"#fb9f3a\"],[0.8888888888888888,\"#fdca26\"],[1.0,\"#f0f921\"]]}],\"mesh3d\":[{\"type\":\"mesh3d\",\"colorbar\":{\"outlinewidth\":0,\"ticks\":\"\"}}],\"scatter\":[{\"fillpattern\":{\"fillmode\":\"overlay\",\"size\":10,\"solidity\":0.2},\"type\":\"scatter\"}],\"parcoords\":[{\"type\":\"parcoords\",\"line\":{\"colorbar\":{\"outlinewidth\":0,\"ticks\":\"\"}}}],\"scatterpolargl\":[{\"type\":\"scatterpolargl\",\"marker\":{\"colorbar\":{\"outlinewidth\":0,\"ticks\":\"\"}}}],\"bar\":[{\"error_x\":{\"color\":\"#2a3f5f\"},\"error_y\":{\"color\":\"#2a3f5f\"},\"marker\":{\"line\":{\"color\":\"#E5ECF6\",\"width\":0.5},\"pattern\":{\"fillmode\":\"overlay\",\"size\":10,\"solidity\":0.2}},\"type\":\"bar\"}],\"scattergeo\":[{\"type\":\"scattergeo\",\"marker\":{\"colorbar\":{\"outlinewidth\":0,\"ticks\":\"\"}}}],\"scatterpolar\":[{\"type\":\"scatterpolar\",\"marker\":{\"colorbar\":{\"outlinewidth\":0,\"ticks\":\"\"}}}],\"histogram\":[{\"marker\":{\"pattern\":{\"fillmode\":\"overlay\",\"size\":10,\"solidity\":0.2}},\"type\":\"histogram\"}],\"scattergl\":[{\"type\":\"scattergl\",\"marker\":{\"colorbar\":{\"outlinewidth\":0,\"ticks\":\"\"}}}],\"scatter3d\":[{\"type\":\"scatter3d\",\"line\":{\"colorbar\":{\"outlinewidth\":0,\"ticks\":\"\"}},\"marker\":{\"colorbar\":{\"outlinewidth\":0,\"ticks\":\"\"}}}],\"scattermapbox\":[{\"type\":\"scattermapbox\",\"marker\":{\"colorbar\":{\"outlinewidth\":0,\"ticks\":\"\"}}}],\"scatterternary\":[{\"type\":\"scatterternary\",\"marker\":{\"colorbar\":{\"outlinewidth\":0,\"ticks\":\"\"}}}],\"scattercarpet\":[{\"type\":\"scattercarpet\",\"marker\":{\"colorbar\":{\"outlinewidth\":0,\"ticks\":\"\"}}}],\"carpet\":[{\"aaxis\":{\"endlinecolor\":\"#2a3f5f\",\"gridcolor\":\"white\",\"linecolor\":\"white\",\"minorgridcolor\":\"white\",\"startlinecolor\":\"#2a3f5f\"},\"baxis\":{\"endlinecolor\":\"#2a3f5f\",\"gridcolor\":\"white\",\"linecolor\":\"white\",\"minorgridcolor\":\"white\",\"startlinecolor\":\"#2a3f5f\"},\"type\":\"carpet\"}],\"table\":[{\"cells\":{\"fill\":{\"color\":\"#EBF0F8\"},\"line\":{\"color\":\"white\"}},\"header\":{\"fill\":{\"color\":\"#C8D4E3\"},\"line\":{\"color\":\"white\"}},\"type\":\"table\"}],\"barpolar\":[{\"marker\":{\"line\":{\"color\":\"#E5ECF6\",\"width\":0.5},\"pattern\":{\"fillmode\":\"overlay\",\"size\":10,\"solidity\":0.2}},\"type\":\"barpolar\"}],\"pie\":[{\"automargin\":true,\"type\":\"pie\"}]},\"layout\":{\"autotypenumbers\":\"strict\",\"colorway\":[\"#636efa\",\"#EF553B\",\"#00cc96\",\"#ab63fa\",\"#FFA15A\",\"#19d3f3\",\"#FF6692\",\"#B6E880\",\"#FF97FF\",\"#FECB52\"],\"font\":{\"color\":\"#2a3f5f\"},\"hovermode\":\"closest\",\"hoverlabel\":{\"align\":\"left\"},\"paper_bgcolor\":\"white\",\"plot_bgcolor\":\"#E5ECF6\",\"polar\":{\"bgcolor\":\"#E5ECF6\",\"angularaxis\":{\"gridcolor\":\"white\",\"linecolor\":\"white\",\"ticks\":\"\"},\"radialaxis\":{\"gridcolor\":\"white\",\"linecolor\":\"white\",\"ticks\":\"\"}},\"ternary\":{\"bgcolor\":\"#E5ECF6\",\"aaxis\":{\"gridcolor\":\"white\",\"linecolor\":\"white\",\"ticks\":\"\"},\"baxis\":{\"gridcolor\":\"white\",\"linecolor\":\"white\",\"ticks\":\"\"},\"caxis\":{\"gridcolor\":\"white\",\"linecolor\":\"white\",\"ticks\":\"\"}},\"coloraxis\":{\"colorbar\":{\"outlinewidth\":0,\"ticks\":\"\"}},\"colorscale\":{\"sequential\":[[0.0,\"#0d0887\"],[0.1111111111111111,\"#46039f\"],[0.2222222222222222,\"#7201a8\"],[0.3333333333333333,\"#9c179e\"],[0.4444444444444444,\"#bd3786\"],[0.5555555555555556,\"#d8576b\"],[0.6666666666666666,\"#ed7953\"],[0.7777777777777778,\"#fb9f3a\"],[0.8888888888888888,\"#fdca26\"],[1.0,\"#f0f921\"]],\"sequentialminus\":[[0.0,\"#0d0887\"],[0.1111111111111111,\"#46039f\"],[0.2222222222222222,\"#7201a8\"],[0.3333333333333333,\"#9c179e\"],[0.4444444444444444,\"#bd3786\"],[0.5555555555555556,\"#d8576b\"],[0.6666666666666666,\"#ed7953\"],[0.7777777777777778,\"#fb9f3a\"],[0.8888888888888888,\"#fdca26\"],[1.0,\"#f0f921\"]],\"diverging\":[[0,\"#8e0152\"],[0.1,\"#c51b7d\"],[0.2,\"#de77ae\"],[0.3,\"#f1b6da\"],[0.4,\"#fde0ef\"],[0.5,\"#f7f7f7\"],[0.6,\"#e6f5d0\"],[0.7,\"#b8e186\"],[0.8,\"#7fbc41\"],[0.9,\"#4d9221\"],[1,\"#276419\"]]},\"xaxis\":{\"gridcolor\":\"white\",\"linecolor\":\"white\",\"ticks\":\"\",\"title\":{\"standoff\":15},\"zerolinecolor\":\"white\",\"automargin\":true,\"zerolinewidth\":2},\"yaxis\":{\"gridcolor\":\"white\",\"linecolor\":\"white\",\"ticks\":\"\",\"title\":{\"standoff\":15},\"zerolinecolor\":\"white\",\"automargin\":true,\"zerolinewidth\":2},\"scene\":{\"xaxis\":{\"backgroundcolor\":\"#E5ECF6\",\"gridcolor\":\"white\",\"linecolor\":\"white\",\"showbackground\":true,\"ticks\":\"\",\"zerolinecolor\":\"white\",\"gridwidth\":2},\"yaxis\":{\"backgroundcolor\":\"#E5ECF6\",\"gridcolor\":\"white\",\"linecolor\":\"white\",\"showbackground\":true,\"ticks\":\"\",\"zerolinecolor\":\"white\",\"gridwidth\":2},\"zaxis\":{\"backgroundcolor\":\"#E5ECF6\",\"gridcolor\":\"white\",\"linecolor\":\"white\",\"showbackground\":true,\"ticks\":\"\",\"zerolinecolor\":\"white\",\"gridwidth\":2}},\"shapedefaults\":{\"line\":{\"color\":\"#2a3f5f\"}},\"annotationdefaults\":{\"arrowcolor\":\"#2a3f5f\",\"arrowhead\":0,\"arrowwidth\":1},\"geo\":{\"bgcolor\":\"white\",\"landcolor\":\"#E5ECF6\",\"subunitcolor\":\"white\",\"showland\":true,\"showlakes\":true,\"lakecolor\":\"white\"},\"title\":{\"x\":0.05},\"mapbox\":{\"style\":\"light\"}}},\"title\":{\"text\":\"Predi\\u00e7\\u00e3o dos valores de fechamento de ABEV3 [Holt-Winters Multiplicativo]\"},\"xaxis\":{\"title\":{\"text\":\"Per\\u00edodos (dias)\"}},\"yaxis\":{\"title\":{\"text\":\"Pre\\u00e7o (R$)\"}},\"legend\":{\"title\":{\"text\":\"\"}},\"annotations\":[{\"showarrow\":false,\"text\":\"\\u00daltimo registro: 2024-02-26\",\"x\":0.9,\"xanchor\":\"center\",\"xref\":\"paper\",\"y\":-0.1,\"yanchor\":\"top\",\"yref\":\"paper\"}]},                        {\"responsive\": true}                    ).then(function(){\n",
              "                            \n",
              "var gd = document.getElementById('dd7fd81d-71b0-40c2-a823-4c6cae669e20');\n",
              "var x = new MutationObserver(function (mutations, observer) {{\n",
              "        var display = window.getComputedStyle(gd).display;\n",
              "        if (!display || display === 'none') {{\n",
              "            console.log([gd, 'removed!']);\n",
              "            Plotly.purge(gd);\n",
              "            observer.disconnect();\n",
              "        }}\n",
              "}});\n",
              "\n",
              "// Listen for the removal of the full notebook cells\n",
              "var notebookContainer = gd.closest('#notebook-container');\n",
              "if (notebookContainer) {{\n",
              "    x.observe(notebookContainer, {childList: true});\n",
              "}}\n",
              "\n",
              "// Listen for the clearing of the current output cell\n",
              "var outputEl = gd.closest('.output');\n",
              "if (outputEl) {{\n",
              "    x.observe(outputEl, {childList: true});\n",
              "}}\n",
              "\n",
              "                        })                };                            </script>        </div>\n",
              "</body>\n",
              "</html>"
            ]
          },
          "metadata": {}
        }
      ]
    },
    {
      "cell_type": "code",
      "source": [],
      "metadata": {
        "id": "rBVsO7ky-anX"
      },
      "execution_count": null,
      "outputs": []
    },
    {
      "cell_type": "markdown",
      "source": [
        "#### Validação do modelo"
      ],
      "metadata": {
        "id": "yfUCHrRs-cFs"
      }
    },
    {
      "cell_type": "code",
      "source": [
        "print(\"Validando o modelo aditivo:\\n\")\n",
        "print(f\"MSE: {mse(X_test, Y_add)}\")\n",
        "print(f\"RMSE: {np.sqrt(mse(X_test, Y_add))}\")\n",
        "print(f\"MAE: {mae(X_test, Y_add)}\")\n",
        "print(f\"MAPE: {mape(X_test, Y_add)}\")"
      ],
      "metadata": {
        "colab": {
          "base_uri": "https://localhost:8080/"
        },
        "id": "9nD2mXSq-eSR",
        "outputId": "7458841a-f118-485d-b4b1-5257fcde4f93"
      },
      "execution_count": null,
      "outputs": [
        {
          "output_type": "stream",
          "name": "stdout",
          "text": [
            "Validando o modelo aditivo:\n",
            "\n",
            "MSE: 0.011828156034165788\n",
            "RMSE: 0.10875732634708242\n",
            "MAE: 0.09071059542587942\n",
            "MAPE: 0.006978347797610848\n"
          ]
        }
      ]
    },
    {
      "cell_type": "code",
      "source": [
        "print(\"Validando o modelo multiplicativo:\\n\")\n",
        "print(f\"MSE: {mse(X_test, Y_mul)}\")\n",
        "print(f\"RMSE: {np.sqrt(mse(X_test, Y_mul))}\")\n",
        "print(f\"MAE: {mae(X_test, Y_mul)}\")\n",
        "print(f\"MAPE: {mape(X_test, Y_mul)}\")"
      ],
      "metadata": {
        "colab": {
          "base_uri": "https://localhost:8080/"
        },
        "id": "FeyIOPQU-aBY",
        "outputId": "9bb0bf70-830d-4fbe-ec73-26496748485b"
      },
      "execution_count": null,
      "outputs": [
        {
          "output_type": "stream",
          "name": "stdout",
          "text": [
            "Validando o modelo multiplicativo:\n",
            "\n",
            "MSE: 0.009154564865494248\n",
            "RMSE: 0.09567949030745433\n",
            "MAE: 0.07954801040045849\n",
            "MAPE: 0.006116416791152478\n"
          ]
        }
      ]
    },
    {
      "cell_type": "markdown",
      "source": [
        "#### Comparação das validações dos resultados\n",
        "* Modelo multiplicativo teve menores indicadores de erro"
      ],
      "metadata": {
        "id": "wKTcQO1_-yTr"
      }
    },
    {
      "cell_type": "code",
      "source": [
        "print(f\"{'`MSE`   Aditivo = ' + str(round(mse(X_test, Y_add)), 5) if mse(X_test, Y_add) < mse(X_test, Y_mul) else 'MSE   Multiplicativo = ' + str(round(mse(X_test, Y_mul), 5))}\")\n",
        "print(f\"{'`RMSE`  Aditivo = ' + str(round(np.sqrt(mse(X_test, Y_add))), 5) if np.sqrt(mse(X_test, Y_add)) < np.sqrt(mse(X_test, Y_mul)) else 'RMSE  Multiplicativo = ' + str(round(np.sqrt(mse(X_test, Y_mul)), 5))}\")\n",
        "print(f\"{'`MAE`   Aditivo = ' + str(round(mae(X_test, Y_add)), 5) if mae(X_test, Y_add) < mae(X_test, Y_mul) else 'RMSE  Multiplicativo = ' + str(round(mae(X_test, Y_mul), 5))}\")\n",
        "print(f\"{'`MAPE`  Aditivo = ' + str(round(mape(X_test, Y_add)), 5) if mape(X_test, Y_add) < mape(X_test, Y_mul) else 'RMSE  Multiplicativo = ' + str(round(mape(X_test, Y_mul), 5))}\")"
      ],
      "metadata": {
        "colab": {
          "base_uri": "https://localhost:8080/"
        },
        "id": "GNHs7F2l-wPM",
        "outputId": "cc9d0bab-533b-40d0-95a6-1d4a67333506"
      },
      "execution_count": null,
      "outputs": [
        {
          "output_type": "stream",
          "name": "stdout",
          "text": [
            "MSE   Multiplicativo = 0.00915\n",
            "RMSE  Multiplicativo = 0.09568\n",
            "RMSE  Multiplicativo = 0.07955\n",
            "RMSE  Multiplicativo = 0.00612\n"
          ]
        }
      ]
    },
    {
      "cell_type": "code",
      "source": [
        "### Analisando o Erro Médio Absoluto (MAE)\n",
        "df[['date', 'close']].rename(columns={'close': 'test'}).loc[X_test.index].assign(**{\n",
        "    'predict': Y_mul,\n",
        "    'mae': (df['close'].loc[X_test.index] - Y_mul).abs()\n",
        "}).sort_values('date', ascending=False)"
      ],
      "metadata": {
        "colab": {
          "base_uri": "https://localhost:8080/",
          "height": 677
        },
        "id": "J1gUUMqCL21P",
        "outputId": "6a805484-c546-436a-c9a2-15f3f0afe792"
      },
      "execution_count": null,
      "outputs": [
        {
          "output_type": "execute_result",
          "data": {
            "text/plain": [
              "           date   test    predict       mae\n",
              "199  2024-02-26  13.04  12.960055  0.079945\n",
              "198  2024-02-23  12.89  12.932503  0.042503\n",
              "197  2024-02-22  12.96  12.891116  0.068884\n",
              "196  2024-02-21  12.90  12.781981  0.118019\n",
              "195  2024-02-20  12.85  12.802910  0.047090\n",
              "194  2024-02-19  12.81  12.783181  0.026819\n",
              "193  2024-02-16  12.76  12.862390  0.102390\n",
              "192  2024-02-15  12.85  12.749342  0.100658\n",
              "191  2024-02-14  12.92  12.732426  0.187574\n",
              "190  2024-02-09  12.95  12.844021  0.105979\n",
              "189  2024-02-08  12.95  12.904270  0.045730\n",
              "188  2024-02-07  13.00  12.947881  0.052119\n",
              "187  2024-02-06  13.23  13.036293  0.193707\n",
              "186  2024-02-05  13.09  12.996015  0.093985\n",
              "185  2024-02-02  13.07  13.075651  0.005651\n",
              "184  2024-02-01  13.07  13.145850  0.075850\n",
              "183  2024-01-31  13.08  13.086295  0.006295\n",
              "182  2024-01-30  13.04  13.116662  0.076662\n",
              "181  2024-01-29  13.25  13.097303  0.152697\n",
              "180  2024-01-26  13.20  13.208403  0.008403"
            ],
            "text/html": [
              "\n",
              "  <div id=\"df-211fd8c3-7023-45d2-a21e-ff1446a8f21a\" class=\"colab-df-container\">\n",
              "    <div>\n",
              "<style scoped>\n",
              "    .dataframe tbody tr th:only-of-type {\n",
              "        vertical-align: middle;\n",
              "    }\n",
              "\n",
              "    .dataframe tbody tr th {\n",
              "        vertical-align: top;\n",
              "    }\n",
              "\n",
              "    .dataframe thead th {\n",
              "        text-align: right;\n",
              "    }\n",
              "</style>\n",
              "<table border=\"1\" class=\"dataframe\">\n",
              "  <thead>\n",
              "    <tr style=\"text-align: right;\">\n",
              "      <th></th>\n",
              "      <th>date</th>\n",
              "      <th>test</th>\n",
              "      <th>predict</th>\n",
              "      <th>mae</th>\n",
              "    </tr>\n",
              "  </thead>\n",
              "  <tbody>\n",
              "    <tr>\n",
              "      <th>199</th>\n",
              "      <td>2024-02-26</td>\n",
              "      <td>13.04</td>\n",
              "      <td>12.960055</td>\n",
              "      <td>0.079945</td>\n",
              "    </tr>\n",
              "    <tr>\n",
              "      <th>198</th>\n",
              "      <td>2024-02-23</td>\n",
              "      <td>12.89</td>\n",
              "      <td>12.932503</td>\n",
              "      <td>0.042503</td>\n",
              "    </tr>\n",
              "    <tr>\n",
              "      <th>197</th>\n",
              "      <td>2024-02-22</td>\n",
              "      <td>12.96</td>\n",
              "      <td>12.891116</td>\n",
              "      <td>0.068884</td>\n",
              "    </tr>\n",
              "    <tr>\n",
              "      <th>196</th>\n",
              "      <td>2024-02-21</td>\n",
              "      <td>12.90</td>\n",
              "      <td>12.781981</td>\n",
              "      <td>0.118019</td>\n",
              "    </tr>\n",
              "    <tr>\n",
              "      <th>195</th>\n",
              "      <td>2024-02-20</td>\n",
              "      <td>12.85</td>\n",
              "      <td>12.802910</td>\n",
              "      <td>0.047090</td>\n",
              "    </tr>\n",
              "    <tr>\n",
              "      <th>194</th>\n",
              "      <td>2024-02-19</td>\n",
              "      <td>12.81</td>\n",
              "      <td>12.783181</td>\n",
              "      <td>0.026819</td>\n",
              "    </tr>\n",
              "    <tr>\n",
              "      <th>193</th>\n",
              "      <td>2024-02-16</td>\n",
              "      <td>12.76</td>\n",
              "      <td>12.862390</td>\n",
              "      <td>0.102390</td>\n",
              "    </tr>\n",
              "    <tr>\n",
              "      <th>192</th>\n",
              "      <td>2024-02-15</td>\n",
              "      <td>12.85</td>\n",
              "      <td>12.749342</td>\n",
              "      <td>0.100658</td>\n",
              "    </tr>\n",
              "    <tr>\n",
              "      <th>191</th>\n",
              "      <td>2024-02-14</td>\n",
              "      <td>12.92</td>\n",
              "      <td>12.732426</td>\n",
              "      <td>0.187574</td>\n",
              "    </tr>\n",
              "    <tr>\n",
              "      <th>190</th>\n",
              "      <td>2024-02-09</td>\n",
              "      <td>12.95</td>\n",
              "      <td>12.844021</td>\n",
              "      <td>0.105979</td>\n",
              "    </tr>\n",
              "    <tr>\n",
              "      <th>189</th>\n",
              "      <td>2024-02-08</td>\n",
              "      <td>12.95</td>\n",
              "      <td>12.904270</td>\n",
              "      <td>0.045730</td>\n",
              "    </tr>\n",
              "    <tr>\n",
              "      <th>188</th>\n",
              "      <td>2024-02-07</td>\n",
              "      <td>13.00</td>\n",
              "      <td>12.947881</td>\n",
              "      <td>0.052119</td>\n",
              "    </tr>\n",
              "    <tr>\n",
              "      <th>187</th>\n",
              "      <td>2024-02-06</td>\n",
              "      <td>13.23</td>\n",
              "      <td>13.036293</td>\n",
              "      <td>0.193707</td>\n",
              "    </tr>\n",
              "    <tr>\n",
              "      <th>186</th>\n",
              "      <td>2024-02-05</td>\n",
              "      <td>13.09</td>\n",
              "      <td>12.996015</td>\n",
              "      <td>0.093985</td>\n",
              "    </tr>\n",
              "    <tr>\n",
              "      <th>185</th>\n",
              "      <td>2024-02-02</td>\n",
              "      <td>13.07</td>\n",
              "      <td>13.075651</td>\n",
              "      <td>0.005651</td>\n",
              "    </tr>\n",
              "    <tr>\n",
              "      <th>184</th>\n",
              "      <td>2024-02-01</td>\n",
              "      <td>13.07</td>\n",
              "      <td>13.145850</td>\n",
              "      <td>0.075850</td>\n",
              "    </tr>\n",
              "    <tr>\n",
              "      <th>183</th>\n",
              "      <td>2024-01-31</td>\n",
              "      <td>13.08</td>\n",
              "      <td>13.086295</td>\n",
              "      <td>0.006295</td>\n",
              "    </tr>\n",
              "    <tr>\n",
              "      <th>182</th>\n",
              "      <td>2024-01-30</td>\n",
              "      <td>13.04</td>\n",
              "      <td>13.116662</td>\n",
              "      <td>0.076662</td>\n",
              "    </tr>\n",
              "    <tr>\n",
              "      <th>181</th>\n",
              "      <td>2024-01-29</td>\n",
              "      <td>13.25</td>\n",
              "      <td>13.097303</td>\n",
              "      <td>0.152697</td>\n",
              "    </tr>\n",
              "    <tr>\n",
              "      <th>180</th>\n",
              "      <td>2024-01-26</td>\n",
              "      <td>13.20</td>\n",
              "      <td>13.208403</td>\n",
              "      <td>0.008403</td>\n",
              "    </tr>\n",
              "  </tbody>\n",
              "</table>\n",
              "</div>\n",
              "    <div class=\"colab-df-buttons\">\n",
              "\n",
              "  <div class=\"colab-df-container\">\n",
              "    <button class=\"colab-df-convert\" onclick=\"convertToInteractive('df-211fd8c3-7023-45d2-a21e-ff1446a8f21a')\"\n",
              "            title=\"Convert this dataframe to an interactive table.\"\n",
              "            style=\"display:none;\">\n",
              "\n",
              "  <svg xmlns=\"http://www.w3.org/2000/svg\" height=\"24px\" viewBox=\"0 -960 960 960\">\n",
              "    <path d=\"M120-120v-720h720v720H120Zm60-500h600v-160H180v160Zm220 220h160v-160H400v160Zm0 220h160v-160H400v160ZM180-400h160v-160H180v160Zm440 0h160v-160H620v160ZM180-180h160v-160H180v160Zm440 0h160v-160H620v160Z\"/>\n",
              "  </svg>\n",
              "    </button>\n",
              "\n",
              "  <style>\n",
              "    .colab-df-container {\n",
              "      display:flex;\n",
              "      gap: 12px;\n",
              "    }\n",
              "\n",
              "    .colab-df-convert {\n",
              "      background-color: #E8F0FE;\n",
              "      border: none;\n",
              "      border-radius: 50%;\n",
              "      cursor: pointer;\n",
              "      display: none;\n",
              "      fill: #1967D2;\n",
              "      height: 32px;\n",
              "      padding: 0 0 0 0;\n",
              "      width: 32px;\n",
              "    }\n",
              "\n",
              "    .colab-df-convert:hover {\n",
              "      background-color: #E2EBFA;\n",
              "      box-shadow: 0px 1px 2px rgba(60, 64, 67, 0.3), 0px 1px 3px 1px rgba(60, 64, 67, 0.15);\n",
              "      fill: #174EA6;\n",
              "    }\n",
              "\n",
              "    .colab-df-buttons div {\n",
              "      margin-bottom: 4px;\n",
              "    }\n",
              "\n",
              "    [theme=dark] .colab-df-convert {\n",
              "      background-color: #3B4455;\n",
              "      fill: #D2E3FC;\n",
              "    }\n",
              "\n",
              "    [theme=dark] .colab-df-convert:hover {\n",
              "      background-color: #434B5C;\n",
              "      box-shadow: 0px 1px 3px 1px rgba(0, 0, 0, 0.15);\n",
              "      filter: drop-shadow(0px 1px 2px rgba(0, 0, 0, 0.3));\n",
              "      fill: #FFFFFF;\n",
              "    }\n",
              "  </style>\n",
              "\n",
              "    <script>\n",
              "      const buttonEl =\n",
              "        document.querySelector('#df-211fd8c3-7023-45d2-a21e-ff1446a8f21a button.colab-df-convert');\n",
              "      buttonEl.style.display =\n",
              "        google.colab.kernel.accessAllowed ? 'block' : 'none';\n",
              "\n",
              "      async function convertToInteractive(key) {\n",
              "        const element = document.querySelector('#df-211fd8c3-7023-45d2-a21e-ff1446a8f21a');\n",
              "        const dataTable =\n",
              "          await google.colab.kernel.invokeFunction('convertToInteractive',\n",
              "                                                    [key], {});\n",
              "        if (!dataTable) return;\n",
              "\n",
              "        const docLinkHtml = 'Like what you see? Visit the ' +\n",
              "          '<a target=\"_blank\" href=https://colab.research.google.com/notebooks/data_table.ipynb>data table notebook</a>'\n",
              "          + ' to learn more about interactive tables.';\n",
              "        element.innerHTML = '';\n",
              "        dataTable['output_type'] = 'display_data';\n",
              "        await google.colab.output.renderOutput(dataTable, element);\n",
              "        const docLink = document.createElement('div');\n",
              "        docLink.innerHTML = docLinkHtml;\n",
              "        element.appendChild(docLink);\n",
              "      }\n",
              "    </script>\n",
              "  </div>\n",
              "\n",
              "\n",
              "<div id=\"df-f4e0f170-1d0f-4b85-9574-56a30fbc4c25\">\n",
              "  <button class=\"colab-df-quickchart\" onclick=\"quickchart('df-f4e0f170-1d0f-4b85-9574-56a30fbc4c25')\"\n",
              "            title=\"Suggest charts\"\n",
              "            style=\"display:none;\">\n",
              "\n",
              "<svg xmlns=\"http://www.w3.org/2000/svg\" height=\"24px\"viewBox=\"0 0 24 24\"\n",
              "     width=\"24px\">\n",
              "    <g>\n",
              "        <path d=\"M19 3H5c-1.1 0-2 .9-2 2v14c0 1.1.9 2 2 2h14c1.1 0 2-.9 2-2V5c0-1.1-.9-2-2-2zM9 17H7v-7h2v7zm4 0h-2V7h2v10zm4 0h-2v-4h2v4z\"/>\n",
              "    </g>\n",
              "</svg>\n",
              "  </button>\n",
              "\n",
              "<style>\n",
              "  .colab-df-quickchart {\n",
              "      --bg-color: #E8F0FE;\n",
              "      --fill-color: #1967D2;\n",
              "      --hover-bg-color: #E2EBFA;\n",
              "      --hover-fill-color: #174EA6;\n",
              "      --disabled-fill-color: #AAA;\n",
              "      --disabled-bg-color: #DDD;\n",
              "  }\n",
              "\n",
              "  [theme=dark] .colab-df-quickchart {\n",
              "      --bg-color: #3B4455;\n",
              "      --fill-color: #D2E3FC;\n",
              "      --hover-bg-color: #434B5C;\n",
              "      --hover-fill-color: #FFFFFF;\n",
              "      --disabled-bg-color: #3B4455;\n",
              "      --disabled-fill-color: #666;\n",
              "  }\n",
              "\n",
              "  .colab-df-quickchart {\n",
              "    background-color: var(--bg-color);\n",
              "    border: none;\n",
              "    border-radius: 50%;\n",
              "    cursor: pointer;\n",
              "    display: none;\n",
              "    fill: var(--fill-color);\n",
              "    height: 32px;\n",
              "    padding: 0;\n",
              "    width: 32px;\n",
              "  }\n",
              "\n",
              "  .colab-df-quickchart:hover {\n",
              "    background-color: var(--hover-bg-color);\n",
              "    box-shadow: 0 1px 2px rgba(60, 64, 67, 0.3), 0 1px 3px 1px rgba(60, 64, 67, 0.15);\n",
              "    fill: var(--button-hover-fill-color);\n",
              "  }\n",
              "\n",
              "  .colab-df-quickchart-complete:disabled,\n",
              "  .colab-df-quickchart-complete:disabled:hover {\n",
              "    background-color: var(--disabled-bg-color);\n",
              "    fill: var(--disabled-fill-color);\n",
              "    box-shadow: none;\n",
              "  }\n",
              "\n",
              "  .colab-df-spinner {\n",
              "    border: 2px solid var(--fill-color);\n",
              "    border-color: transparent;\n",
              "    border-bottom-color: var(--fill-color);\n",
              "    animation:\n",
              "      spin 1s steps(1) infinite;\n",
              "  }\n",
              "\n",
              "  @keyframes spin {\n",
              "    0% {\n",
              "      border-color: transparent;\n",
              "      border-bottom-color: var(--fill-color);\n",
              "      border-left-color: var(--fill-color);\n",
              "    }\n",
              "    20% {\n",
              "      border-color: transparent;\n",
              "      border-left-color: var(--fill-color);\n",
              "      border-top-color: var(--fill-color);\n",
              "    }\n",
              "    30% {\n",
              "      border-color: transparent;\n",
              "      border-left-color: var(--fill-color);\n",
              "      border-top-color: var(--fill-color);\n",
              "      border-right-color: var(--fill-color);\n",
              "    }\n",
              "    40% {\n",
              "      border-color: transparent;\n",
              "      border-right-color: var(--fill-color);\n",
              "      border-top-color: var(--fill-color);\n",
              "    }\n",
              "    60% {\n",
              "      border-color: transparent;\n",
              "      border-right-color: var(--fill-color);\n",
              "    }\n",
              "    80% {\n",
              "      border-color: transparent;\n",
              "      border-right-color: var(--fill-color);\n",
              "      border-bottom-color: var(--fill-color);\n",
              "    }\n",
              "    90% {\n",
              "      border-color: transparent;\n",
              "      border-bottom-color: var(--fill-color);\n",
              "    }\n",
              "  }\n",
              "</style>\n",
              "\n",
              "  <script>\n",
              "    async function quickchart(key) {\n",
              "      const quickchartButtonEl =\n",
              "        document.querySelector('#' + key + ' button');\n",
              "      quickchartButtonEl.disabled = true;  // To prevent multiple clicks.\n",
              "      quickchartButtonEl.classList.add('colab-df-spinner');\n",
              "      try {\n",
              "        const charts = await google.colab.kernel.invokeFunction(\n",
              "            'suggestCharts', [key], {});\n",
              "      } catch (error) {\n",
              "        console.error('Error during call to suggestCharts:', error);\n",
              "      }\n",
              "      quickchartButtonEl.classList.remove('colab-df-spinner');\n",
              "      quickchartButtonEl.classList.add('colab-df-quickchart-complete');\n",
              "    }\n",
              "    (() => {\n",
              "      let quickchartButtonEl =\n",
              "        document.querySelector('#df-f4e0f170-1d0f-4b85-9574-56a30fbc4c25 button');\n",
              "      quickchartButtonEl.style.display =\n",
              "        google.colab.kernel.accessAllowed ? 'block' : 'none';\n",
              "    })();\n",
              "  </script>\n",
              "</div>\n",
              "\n",
              "    </div>\n",
              "  </div>\n"
            ],
            "application/vnd.google.colaboratory.intrinsic+json": {
              "type": "dataframe",
              "repr_error": "'str' object has no attribute 'empty'"
            }
          },
          "metadata": {},
          "execution_count": 25
        }
      ]
    },
    {
      "cell_type": "markdown",
      "source": [
        "Site: https://trading-analysis.streamlit.app/"
      ],
      "metadata": {
        "id": "DJAYntzapS0Y"
      }
    },
    {
      "cell_type": "code",
      "source": [],
      "metadata": {
        "id": "4V6ByzGSRqoe"
      },
      "execution_count": null,
      "outputs": []
    },
    {
      "cell_type": "code",
      "source": [],
      "metadata": {
        "id": "UsRjBecPRqgJ"
      },
      "execution_count": null,
      "outputs": []
    },
    {
      "cell_type": "code",
      "source": [],
      "metadata": {
        "id": "WC-FUGawRqdz"
      },
      "execution_count": null,
      "outputs": []
    },
    {
      "cell_type": "code",
      "source": [],
      "metadata": {
        "id": "3W3gVVGiRqbk"
      },
      "execution_count": null,
      "outputs": []
    },
    {
      "cell_type": "code",
      "source": [],
      "metadata": {
        "id": "r5qH35Y1RqK7"
      },
      "execution_count": null,
      "outputs": []
    },
    {
      "cell_type": "code",
      "source": [],
      "metadata": {
        "id": "P7Sh9P_nRqGi"
      },
      "execution_count": null,
      "outputs": []
    },
    {
      "cell_type": "code",
      "source": [],
      "metadata": {
        "id": "m-o9edPIRp42"
      },
      "execution_count": null,
      "outputs": []
    },
    {
      "cell_type": "code",
      "source": [],
      "metadata": {
        "id": "nDNYBL97RpNQ"
      },
      "execution_count": null,
      "outputs": []
    },
    {
      "cell_type": "markdown",
      "source": [
        "#### SARIMA"
      ],
      "metadata": {
        "id": "wRKxmSyIBTUS"
      }
    },
    {
      "cell_type": "code",
      "source": [
        "!pip install pmdarima"
      ],
      "metadata": {
        "colab": {
          "base_uri": "https://localhost:8080/"
        },
        "id": "SeAi1ublBX18",
        "outputId": "5226141d-4bb2-4d43-dcb2-ebe4769a33de"
      },
      "execution_count": null,
      "outputs": [
        {
          "output_type": "stream",
          "name": "stdout",
          "text": [
            "Requirement already satisfied: pmdarima in /usr/local/lib/python3.10/dist-packages (2.0.4)\n",
            "Requirement already satisfied: joblib>=0.11 in /usr/local/lib/python3.10/dist-packages (from pmdarima) (1.3.2)\n",
            "Requirement already satisfied: Cython!=0.29.18,!=0.29.31,>=0.29 in /usr/local/lib/python3.10/dist-packages (from pmdarima) (3.0.8)\n",
            "Requirement already satisfied: numpy>=1.21.2 in /usr/local/lib/python3.10/dist-packages (from pmdarima) (1.25.2)\n",
            "Requirement already satisfied: pandas>=0.19 in /usr/local/lib/python3.10/dist-packages (from pmdarima) (1.5.3)\n",
            "Requirement already satisfied: scikit-learn>=0.22 in /usr/local/lib/python3.10/dist-packages (from pmdarima) (1.2.2)\n",
            "Requirement already satisfied: scipy>=1.3.2 in /usr/local/lib/python3.10/dist-packages (from pmdarima) (1.11.4)\n",
            "Requirement already satisfied: statsmodels>=0.13.2 in /usr/local/lib/python3.10/dist-packages (from pmdarima) (0.14.1)\n",
            "Requirement already satisfied: urllib3 in /usr/local/lib/python3.10/dist-packages (from pmdarima) (2.0.7)\n",
            "Requirement already satisfied: setuptools!=50.0.0,>=38.6.0 in /usr/local/lib/python3.10/dist-packages (from pmdarima) (67.7.2)\n",
            "Requirement already satisfied: packaging>=17.1 in /usr/local/lib/python3.10/dist-packages (from pmdarima) (23.2)\n",
            "Requirement already satisfied: python-dateutil>=2.8.1 in /usr/local/lib/python3.10/dist-packages (from pandas>=0.19->pmdarima) (2.8.2)\n",
            "Requirement already satisfied: pytz>=2020.1 in /usr/local/lib/python3.10/dist-packages (from pandas>=0.19->pmdarima) (2023.4)\n",
            "Requirement already satisfied: threadpoolctl>=2.0.0 in /usr/local/lib/python3.10/dist-packages (from scikit-learn>=0.22->pmdarima) (3.3.0)\n",
            "Requirement already satisfied: patsy>=0.5.4 in /usr/local/lib/python3.10/dist-packages (from statsmodels>=0.13.2->pmdarima) (0.5.6)\n",
            "Requirement already satisfied: six in /usr/local/lib/python3.10/dist-packages (from patsy>=0.5.4->statsmodels>=0.13.2->pmdarima) (1.16.0)\n"
          ]
        }
      ]
    },
    {
      "cell_type": "code",
      "source": [
        "import statsmodels\n",
        "import statsmodels.api as sm\n",
        "\n",
        "from pmdarima import auto_arima\n",
        "import warnings\n",
        "warnings.filterwarnings('ignore')"
      ],
      "metadata": {
        "id": "2yGKH9xku_d9"
      },
      "execution_count": null,
      "outputs": []
    },
    {
      "cell_type": "code",
      "source": [
        "stepwise_fit = auto_arima(\n",
        "    X_train.to_numpy(),\n",
        "    start_p=0,\n",
        "    start_q=0,\n",
        "    max_p=6,\n",
        "    max_q=3,\n",
        "    information_criterion = 'aic',\n",
        "    seasonal=True,\n",
        "    trace=True,\n",
        "    m=25\n",
        ")"
      ],
      "metadata": {
        "colab": {
          "base_uri": "https://localhost:8080/"
        },
        "id": "ggU9PcNxv4Q1",
        "outputId": "a2e9dc01-cc52-42fb-9ab0-b9b81245e266"
      },
      "execution_count": null,
      "outputs": [
        {
          "output_type": "stream",
          "name": "stdout",
          "text": [
            "Performing stepwise search to minimize aic\n",
            " ARIMA(0,1,0)(1,0,1)[25] intercept   : AIC=-100.766, Time=0.73 sec\n",
            " ARIMA(0,1,0)(0,0,0)[25] intercept   : AIC=-104.368, Time=0.07 sec\n",
            " ARIMA(1,1,0)(1,0,0)[25] intercept   : AIC=-102.656, Time=0.37 sec\n",
            " ARIMA(0,1,1)(0,0,1)[25] intercept   : AIC=-102.785, Time=0.59 sec\n",
            " ARIMA(0,1,0)(0,0,0)[25]             : AIC=-106.073, Time=0.03 sec\n",
            " ARIMA(0,1,0)(1,0,0)[25] intercept   : AIC=-102.395, Time=0.49 sec\n",
            " ARIMA(0,1,0)(0,0,1)[25] intercept   : AIC=-102.402, Time=0.28 sec\n",
            " ARIMA(1,1,0)(0,0,0)[25] intercept   : AIC=-104.626, Time=0.06 sec\n",
            " ARIMA(0,1,1)(0,0,0)[25] intercept   : AIC=-104.752, Time=0.08 sec\n",
            " ARIMA(1,1,1)(0,0,0)[25] intercept   : AIC=-102.770, Time=0.21 sec\n",
            "\n",
            "Best model:  ARIMA(0,1,0)(0,0,0)[25]          \n",
            "Total fit time: 2.947 seconds\n"
          ]
        }
      ]
    },
    {
      "cell_type": "code",
      "source": [
        "stepwise_fit = auto_arima(\n",
        "    X_train.to_numpy(),\n",
        "    start_p=0,\n",
        "    start_q=0,\n",
        "    max_p=6,\n",
        "    max_q=3,\n",
        "    information_criterion = 'bic',\n",
        "    # stepwise = False,\n",
        "    seasonal=True,\n",
        "    trace=True,\n",
        "    m=25\n",
        ")"
      ],
      "metadata": {
        "id": "QL7JvUt0v3iC"
      },
      "execution_count": null,
      "outputs": []
    },
    {
      "cell_type": "code",
      "source": [
        "stepwise_fit.summary()"
      ],
      "metadata": {
        "id": "lxOAnSqgBp95"
      },
      "execution_count": null,
      "outputs": []
    },
    {
      "cell_type": "code",
      "source": [
        "mod = sm.tsa.statespace.SARIMAX(\n",
        "    X_train.to_numpy(),\n",
        "    order=(0, 1, 0),\n",
        "    seasonal_order=(0, 0, 0, 25),\n",
        "    enforce_stationarity=False,\n",
        "    enforce_invertibility=False\n",
        ")\n",
        "\n",
        "results = mod.fit(disp=0)"
      ],
      "metadata": {
        "id": "w3k82qftB-0x"
      },
      "execution_count": null,
      "outputs": []
    },
    {
      "cell_type": "code",
      "source": [
        "print(f'AIC: {results.aic} | BIC: {results.bic}')"
      ],
      "metadata": {
        "id": "k-vQODSSB_7W"
      },
      "execution_count": null,
      "outputs": []
    },
    {
      "cell_type": "code",
      "source": [
        "Y = results.predict(\n",
        "    start=len(X_train),\n",
        "    end=len(X_train) + len(X_test) - 1\n",
        ")#.rename('Forecast')"
      ],
      "metadata": {
        "id": "zB4rDrKTCrRI"
      },
      "execution_count": null,
      "outputs": []
    },
    {
      "cell_type": "code",
      "source": [
        "fig = go.Figure()\n",
        "\n",
        "fig.add_trace(\n",
        "    go.Scatter(\n",
        "        y=X_train.tolist() + [None] * (len(X) - len(X_train)),\n",
        "        mode='lines',\n",
        "        name='Treinamento',\n",
        "        line = dict(width=1.25)\n",
        "    )\n",
        ")\n",
        "\n",
        "fig.add_trace(\n",
        "    go.Scatter(\n",
        "        y=[None] * len(X_train) + X_test.tolist(),\n",
        "        mode='lines',\n",
        "        name='Teste',\n",
        "        line = dict(color='#cc66cc', width=1.25) # , dash='dash')\n",
        "    )\n",
        ")\n",
        "\n",
        "fig.add_trace(\n",
        "    go.Scatter(\n",
        "        y=[None] * len(X_train) + Y.tolist(),\n",
        "        mode='lines',\n",
        "        name='Predito',\n",
        "        line = dict(color='#000000', width=1.25) # , dash='dash')\n",
        "    )\n",
        ")\n",
        "\n",
        "fig.update_layout(\n",
        "    title=f\"Predição dos valores de fechamento de {ticker}\",\n",
        "    xaxis_title=\"Períodos (dias)\",\n",
        "    yaxis_title=\"Preço (R$)\",\n",
        "    legend_title=\"\",\n",
        "    # font=dict(\n",
        "    #     family=\"Courier New, monospace\",\n",
        "    #     size=18,\n",
        "    #     color=\"RebeccaPurple\"\n",
        "    # )\n",
        ")\n",
        "\n",
        "annotations = []\n",
        "annotations.append(\n",
        "    dict(\n",
        "        xref='paper', yref='paper', x=0.9, y=-0.1,\n",
        "        xanchor='center', yanchor='top', text=f\"Último registro: {df['date'].max()}\",\n",
        "        # font=dict(\n",
        "        #     family='Arial',\n",
        "        #     size=12,\n",
        "        #     color='rgb(150,150,150)'\n",
        "        # ),\n",
        "        showarrow=False\n",
        "    )\n",
        ")\n",
        "\n",
        "fig.update_layout(annotations=annotations)\n",
        "\n",
        "fig.show()"
      ],
      "metadata": {
        "id": "KAn5MTMhCr2O"
      },
      "execution_count": null,
      "outputs": []
    },
    {
      "cell_type": "code",
      "source": [],
      "metadata": {
        "id": "TizBtDgAC-a2"
      },
      "execution_count": null,
      "outputs": []
    }
  ]
}